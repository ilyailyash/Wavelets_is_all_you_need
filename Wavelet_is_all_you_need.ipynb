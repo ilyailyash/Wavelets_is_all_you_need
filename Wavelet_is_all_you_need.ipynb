{
 "cells": [
  {
   "cell_type": "code",
   "execution_count": 3,
   "metadata": {
    "collapsed": true
   },
   "outputs": [],
   "source": [
    "import torch\n",
    "from torch import nn\n",
    "import torch.nn.functional as F\n",
    "import numpy as np\n",
    "import math\n",
    "import copy\n",
    "import matplotlib.pyplot as plt\n",
    "%matplotlib inline"
   ]
  },
  {
   "cell_type": "code",
   "execution_count": 76,
   "metadata": {},
   "outputs": [],
   "source": [
    "class Wavelet(nn.Module):\n",
    "    def __init__(self, num_layers, kernel_size, stride=1,\n",
    "                 padding=1, dilation=1, groups=1):\n",
    "        super(Wavelet, self).__init__()\n",
    "        \n",
    "        self.num_layers = num_layers\n",
    "        self.kernel_size = kernel_size\n",
    "        self.stride = stride\n",
    "        self.padding = padding\n",
    "        self.dilation = dilation\n",
    "        self.groups = groups\n",
    "        \n",
    "        self.weight_hi = nn.Parameter(torch.Tensor(1,1,kernel_size))\n",
    "        self.weight_lo = nn.Parameter(torch.Tensor(1,1,kernel_size))\n",
    "        \n",
    "        self.weights = []\n",
    "        self.weights.append(self.weight_hi) \n",
    "        for i in range(1,num_layers):\n",
    "            self.weights.append(torch.Tensor(1,1,kernel_size*(2**i)))\n",
    "        self.weights.append(torch.Tensor(1,1,kernel_size*2**(num_layers-1)))\n",
    "        \n",
    "        self.weights_dec = copy.deepcopy(self.weights)\n",
    "        \n",
    "        self.reset_parameters()\n",
    "\n",
    "    def reset_parameters(self):\n",
    "#         nn.init.xavier_uniform_(self.weight_hi)\n",
    "#         nn.init.xavier_uniform_(self.weight_lo)\n",
    "        self.weight_lo = nn.Parameter(torch.tensor([[[0.4830, 0.8365, 0.2241, -0.1294]]], dtype=torch.float32))\n",
    "#         self.weight_hi = nn.Parameter(torch.tensor([[[-0.1294, -0.2241, 0.8365, -0.4830]]], dtype=torch.float32))\n",
    "        idx = torch.arange(self.weight_lo.size(2)-1, -1, -1).long()\n",
    "        weight_hi = self.weight_lo[:,:,idx]\n",
    "        odd = torch.arange(1, self.weight_hi.size(2)-1, 2).long()\n",
    "        weight_hi[:,:,odd] = weight_hi[:,:,odd]*-1\n",
    "        self.weight_hi = nn.Parameter(weight_hi)\n",
    "        \n",
    "    def energy(self,tensor):\n",
    "        return (tensor.pow(2).sum())\n",
    "    \n",
    "    def upsample(self,weigth, filt):\n",
    "        kernel_size = weigth.shape[-1]\n",
    "        filt_size = filt.shape[-1]\n",
    "        upsampeled = torch.zeros((1,1,kernel_size*2-1))\n",
    "        upsampeled[:,:,::2] = weigth\n",
    "        upsampeled_pad = F.pad(upsampeled,(math.ceil(filt_size/2),math.floor(filt_size/2))) #padding\n",
    "        return upsampeled, F.conv1d(upsampeled_pad, filt)\n",
    "        \n",
    "    def reset_weights_enc(self):\n",
    "        self.weights[0] = self.weight_hi\n",
    "        last_lo = self.weight_lo\n",
    "        last_hi = self.weight_hi\n",
    "        accumulated_lo = self.weight_lo\n",
    "        for i in range(1,self.num_layers):\n",
    "            last_hi, self.weights[i] = self.upsample(last_hi, accumulated_lo)\n",
    "            last_lo, accumulated_lo = self.upsample(last_lo, accumulated_lo)\n",
    "        self.weights[self.num_layers] = accumulated_lo\n",
    "        for w in self.weights:\n",
    "            plt.plot(np.linspace(0,1,w.size(2)),w.data.numpy()[0,0,:])\n",
    "        \n",
    "    def reset_weights_dec(self):\n",
    "        for i,weight in enumerate(self.weights):            \n",
    "            inv_idx = torch.arange(weight.size(2)-1, -1, -1).long()\n",
    "            self.weights_dec[i] = weight[:,:,inv_idx]\n",
    "#         for w in self.weights_dec:\n",
    "#             print (w)\n",
    "\n",
    "        \n",
    "#     def batman(self,data_len,data):\n",
    "#         center = data.size(2)//2\n",
    "#         r_shift = center + math.floor(data_len/2)\n",
    "#         l_shift = center - math.ceil(data_len/2)\n",
    "#         return (data[:,:,l_shift:r_shift])\n",
    "\n",
    "    def encoding(self,data):\n",
    "        self.reset_weights_enc()\n",
    "        encoding = torch.Tensor(data.size(0),self.num_layers+1,data.size(2))\n",
    "        for i,weight in enumerate(self.weights):\n",
    "            filt_size = weight.size(2)-1\n",
    "            left = math.ceil(filt_size/2)\n",
    "            rigth = math.floor(filt_size/2)\n",
    "#             print (i,F.conv1d(F.pad(data,(left,rigth)), weight))\n",
    "            encoding[:,i,:] = F.conv1d(F.pad(data,(left,rigth)), weight).squeeze(1)\n",
    "        return encoding\n",
    "    \n",
    "    def decoding(self,encoding):\n",
    "        self.reset_weights_dec()\n",
    "        decoding = torch.zeros((encoding.size(0),1,encoding.size(2)))\n",
    "        for i,weight in enumerate(self.weights_dec):\n",
    "            filt_size = weight.size(2)-1\n",
    "            left = math.floor(filt_size/2)\n",
    "            rigth = math.ceil(filt_size/2)\n",
    "#             tmp = F.conv1d(F.pad(encoding[:,i,:].unsqueeze(1),(left,rigth)), weight)\n",
    "#             print (i, tmp)\n",
    "            decoding += F.conv1d(F.pad(encoding[:,i,:].unsqueeze(1),(left,rigth)), weight)\n",
    "        return decoding\n",
    "        \n",
    "        \n",
    "        \n",
    "    def forward(self,data):\n",
    "        self.reset_weights_enc()\n",
    "        encoding = torch.Tensor(data.size(0),self.num_layers+1,data.size(2))\n",
    "        for i,weight in enumerate(self.weights):\n",
    "            filt_size = weight.size(2)-1\n",
    "            left = math.ceil(filt_size/2)\n",
    "            rigth = math.floor(filt_size/2)\n",
    "#             tmp = F.conv1d(F.pad(data,(math.ceil(filt_size/2),math.floor(filt_size/2))), weight)\n",
    "            encoding[:,i,:] = F.conv1d(F.pad(data,(left,rigth)), weight).squeeze(1)\n",
    "        return encoding\n",
    "        \n",
    "        \n",
    "\n",
    "#     def forward(self, input):\n",
    "#         return F.conv1d(input, self.weight, self.bias, self.stride,\n",
    "#                         self.padding, self.dilation, self.groups)"
   ]
  },
  {
   "cell_type": "code",
   "execution_count": 78,
   "metadata": {},
   "outputs": [
    {
     "name": "stdout",
     "output_type": "stream",
     "text": [
      "tensor([[[ 180.0394,  255.6583,  335.1915,  313.5259,   95.8860,\n",
      "            38.9170,  -12.8359,  -17.4320]]])\n"
     ]
    },
    {
     "data": {
      "image/png": "[encoded data removed]",
      "text/plain": [
       "<matplotlib.figure.Figure at 0x16800f03a90>"
      ]
     },
     "metadata": {},
     "output_type": "display_data"
    }
   ],
   "source": [
    "filters = torch.randn(1, 1, 10)\n",
    "inputs = torch.tensor([[[80,80,80,80,0,0,0,0]]], dtype=torch.float32)\n",
    "model = Wavelet(5,6)\n",
    "encod = model.encoding(inputs)\n",
    "dec = model.decoding(encod)\n",
    "print (dec)"
   ]
  },
  {
   "cell_type": "code",
   "execution_count": 44,
   "metadata": {},
   "outputs": [
    {
     "data": {
      "text/plain": [
       "(tensor(1.0000), tensor(1.0000))"
      ]
     },
     "execution_count": 44,
     "metadata": {},
     "output_type": "execute_result"
    }
   ],
   "source": [
    "model.energy(model.weight_hi), model.energy(model.weight_lo)"
   ]
  },
  {
   "cell_type": "code",
   "execution_count": 206,
   "metadata": {},
   "outputs": [
    {
     "data": {
      "text/plain": [
       "tensor([ 6,  5,  4,  3,  2,  1,  0])"
      ]
     },
     "execution_count": 206,
     "metadata": {},
     "output_type": "execute_result"
    }
   ],
   "source": [
    "arr = torch.zeros((1, 1, 7))              # array([1, 2, 3, 4, 5, 6])\n",
    "torch.arange(arr.size(2)-1, -1, -1).long()"
   ]
  },
  {
   "cell_type": "code",
   "execution_count": 55,
   "metadata": {},
   "outputs": [
    {
     "name": "stdout",
     "output_type": "stream",
     "text": [
      "tensor([[[ 1.,  0.,  2.,  0.,  3.,  0.,  4.,  0.,  5.]]])\n"
     ]
    }
   ],
   "source": [
    "kernel_size = 5\n",
    "a = torch.tensor(range(5))+1\n",
    "zeros = torch.zeros((1,1,kernel_size*2-1))\n",
    "zeros[:,:,::2] = a\n",
    "print (zeros)"
   ]
  },
  {
   "cell_type": "code",
   "execution_count": 108,
   "metadata": {
    "collapsed": true
   },
   "outputs": [],
   "source": [
    "low_fil = torch.Tensor([[[1,1]]] )\n",
    "weigth = torch.Tensor([[[1,1]]] )\n",
    "F.conv1d(weigth, low_fil,padding=3).shape\n",
    "f_size = low_fil.shape[-1]"
   ]
  },
  {
   "cell_type": "code",
   "execution_count": 116,
   "metadata": {},
   "outputs": [
    {
     "data": {
      "text/plain": [
       "tensor([[[ 1., -1.,  1., -1.]]])"
      ]
     },
     "execution_count": 116,
     "metadata": {},
     "output_type": "execute_result"
    }
   ],
   "source": [
    "def upsample(weigth, filt):\n",
    "    kernel_size = weigth.shape[-1]\n",
    "    filt_size = filt.shape[-1]\n",
    "    upsampeled = torch.zeros((1,1,kernel_size*2-1))\n",
    "    upsampeled[:,:,::2] = weigth\n",
    "    upsampeled = F.pad(upsampeled,(math.ceil(filt_size/2),math.floor(filt_size/2)))\n",
    "    return F.conv1d(upsampeled, filt)\n",
    "low_fil = torch.Tensor([[[-1,1]]] )\n",
    "weigth = torch.Tensor([[[1,1]]] )\n",
    "upsample(weigth,low_fil)"
   ]
  },
  {
   "cell_type": "code",
   "execution_count": 31,
   "metadata": {},
   "outputs": [
    {
     "name": "stdout",
     "output_type": "stream",
     "text": [
      "tensor(1.)\n"
     ]
    }
   ],
   "source": [
    "tensor = torch.rand(1,1,10) # your tensor\n",
    "# tensor =torch.tensor([[[0.4830, 0.8365, 0.2241, -0.1294]]])\n",
    "en = tensor.pow(2).sum()\n",
    "scale = math.sqrt(en)\n",
    "tensor = tensor/scale\n",
    "print (tensor.pow(2).sum())"
   ]
  },
  {
   "cell_type": "code",
   "execution_count": null,
   "metadata": {
    "collapsed": true
   },
   "outputs": [],
   "source": [
    "        en = self.energy(self.weight_lo)\n",
    "        scale = math.sqrt(en)\n",
    "        self.weight_lo = nn.Parameter(self.weight_lo/scale\n",
    "        nn.init.xavier_uniform_(self.weight_hi)"
   ]
  }
 ],
 "metadata": {
  "kernelspec": {
   "display_name": "Python 3",
   "language": "python",
   "name": "python3"
  },
  "language_info": {
   "codemirror_mode": {
    "name": "ipython",
    "version": 3
   },
   "file_extension": ".py",
   "mimetype": "text/x-python",
   "name": "python",
   "nbconvert_exporter": "python",
   "pygments_lexer": "ipython3",
   "version": "3.6.3"
  }
 },
 "nbformat": 4,
 "nbformat_minor": 2
}
