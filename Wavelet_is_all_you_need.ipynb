{
 "cells": [
  {
   "cell_type": "code",
   "execution_count": 1,
   "metadata": {
    "scrolled": true
   },
   "outputs": [],
   "source": [
    "import torch\n",
    "from torch import nn\n",
    "import torch.nn.functional as F\n",
    "import numpy as np\n",
    "import math\n",
    "import copy\n",
    "import matplotlib.pyplot as plt\n",
    "%matplotlib inline\n",
    "# from tensorboardX import SummaryWriter"
   ]
  },
  {
   "cell_type": "code",
   "execution_count": 2,
   "metadata": {},
   "outputs": [],
   "source": [
    "class Normalisation(nn.Module):\n",
    "    def __init__(self,hi,eps=1e-6):\n",
    "        super(Normalisation, self).__init__()\n",
    "        self.L = nn.Parameter(torch.Tensor(1))\n",
    "        self.B = nn.Parameter(torch.Tensor(1))\n",
    "        self.hi = hi\n",
    "        self.eps = eps\n",
    "        self.reset_parameters()\n",
    "        self.Sigmoid = nn.Sigmoid()\n",
    "        \n",
    "    def reset_parameters(self):\n",
    "        nn.init.uniform_(self.L,-1,1)\n",
    "        nn.init.uniform_(self.B,-1,1)\n",
    "    \n",
    "    def mul_sigmoid(self, weight):\n",
    "        return self.Sigmoid(weight)+0.5\n",
    "    \n",
    "    def add_sigmoid(self, weight):\n",
    "        return self.Sigmoid(weight)-0.5 \n",
    "    \n",
    "    def forward(self, weight):\n",
    "        \n",
    "        if self.hi:\n",
    "            mean = weight.mean(-1)\n",
    "            weight = weight-mean\n",
    "            div = torch.sqrt(weight.pow(2).sum(-1)+self.eps)\n",
    "            normilized_weight = weight/div\n",
    "            normilized_weight = self.mul_sigmoid(self.L)*normilized_weight+self.add_sigmoid(self.B)\n",
    "        else:            \n",
    "            div = torch.sqrt(weight.pow(2).sum(-1)+self.eps)\n",
    "            normilized_weight = weight/div\n",
    "            normilized_weight = self.mul_sigmoid(self.L)*normilized_weight \n",
    "\n",
    "        return normilized_weight\n",
    "        "
   ]
  },
  {
   "cell_type": "code",
   "execution_count": 3,
   "metadata": {},
   "outputs": [],
   "source": [
    "class Test(nn.Module):\n",
    "    def __init__(self,hi):\n",
    "        super(Test, self).__init__()\n",
    "        self.weight = nn.Parameter(torch.Tensor(4))\n",
    "        self.bias = nn.Parameter(torch.Tensor(1))\n",
    "        \n",
    "        self.norm = Normalisation(hi)\n",
    "        \n",
    "    def forward(self, tensor):\n",
    "        weight = self.norm(self.weight)\n",
    "        res = tensor @ weight + self.bias\n",
    "        return res"
   ]
  },
  {
   "cell_type": "code",
   "execution_count": 4,
   "metadata": {},
   "outputs": [
    {
     "name": "stderr",
     "output_type": "stream",
     "text": [
      "/home/administrator/.conda/envs/torch/lib/python3.6/site-packages/torch/nn/functional.py:1006: UserWarning: nn.functional.sigmoid is deprecated. Use torch.sigmoid instead.\n",
      "  warnings.warn(\"nn.functional.sigmoid is deprecated. Use torch.sigmoid instead.\")\n"
     ]
    },
    {
     "data": {
      "text/plain": [
       "tensor([0.7689])"
      ]
     },
     "execution_count": 4,
     "metadata": {},
     "output_type": "execute_result"
    }
   ],
   "source": [
    "# norm = Normalisation(True)\n",
    "test = Test(True)\n",
    "tensor = torch.Tensor([-0.1294, -0.2241, 0.8365, -0.4830]).cuda()\n",
    "# norm.cuda()\n",
    "test.cuda()\n",
    "\n",
    "\n",
    "loss = (test(tensor)-tensor).mean()\n",
    "\n",
    "\n",
    "loss.backward()\n",
    "# norm.L.grad\n",
    "\n",
    "# loss = (test(tensor)-tensor).mean()\n",
    "# loss.backward()\n",
    "# with torch.autograd.profiler.profile() as prof:\n",
    "#     loss = (test(tensor)-tensor).mean()\n",
    "#     loss.backward()\n",
    "\n",
    "# print(prof)\n",
    "\n",
    "\n",
    "F.sigmoid(torch.Tensor([-1.]))+0.5"
   ]
  },
  {
   "cell_type": "code",
   "execution_count": 34,
   "metadata": {},
   "outputs": [],
   "source": [
    "class Wavelet(nn.Module):\n",
    "    def __init__(self, num_layers, kernel_size, stride=1,\n",
    "                 padding=1, dilation=1, groups=1, disp=False, norm=True):\n",
    "        super(Wavelet, self).__init__()\n",
    "        \n",
    "        self.num_layers = num_layers\n",
    "        self.kernel_size = kernel_size\n",
    "        self.stride = stride\n",
    "        self.padding = padding\n",
    "        self.dilation = dilation\n",
    "        self.groups = groups\n",
    "        self.disp = disp\n",
    "        self.norm = norm\n",
    "        \n",
    "        if self.norm:\n",
    "            self.hi_Norm = Normalisation(True)\n",
    "            self.lo_Norm = Normalisation(False)\n",
    "        self.weight_hi = nn.Parameter(torch.Tensor(1,1,kernel_size).cuda())\n",
    "        self.weight_lo = nn.Parameter(torch.Tensor(1,1,kernel_size).cuda())\n",
    "        \n",
    "        self.weights = []\n",
    "        self.weights.append(self.weight_hi) \n",
    "        for i in range(1,num_layers):\n",
    "            self.weights.append(torch.Tensor(1,1,kernel_size*(2**i)))\n",
    "        self.weights.append(torch.Tensor(1,1,kernel_size*2**(num_layers-1)))\n",
    "        \n",
    "        self.weights_dec = copy.deepcopy(self.weights)\n",
    "        \n",
    "        self.reset_parameters()\n",
    "\n",
    "# # Из фильтра низких частот        \n",
    "    def reset_parameters(self):\n",
    "        nn.init.xavier_uniform_(self.weight_hi)\n",
    "#         nn.init.uniform_(self.weight_lo)\n",
    "#         self.weight_lo = nn.Parameter(torch.tensor([[[1,1]]], dtype=torch.float32))\n",
    "#         self.weight_hi = nn.Parameter(torch.tensor([[[]]], dtype=torch.float32))\n",
    "        weight_hi = self.weight_hi-self.weight_hi.mean()\n",
    "        self.weight_hi = nn.Parameter(weight_hi/torch.sqrt(self.energy(weight_hi)))\n",
    "        idx = torch.arange(self.weight_lo.size(2)-1, -1, -1).long()\n",
    "        weight_lo = self.weight_hi[:,:,idx]\n",
    "        odd = torch.arange(1, self.weight_lo.size(2)-1, 2).long()\n",
    "        weight_lo[:,:,odd] = weight_lo[:,:,odd]*-1\n",
    "        self.weight_lo = nn.Parameter(weight_lo)\n",
    "\n",
    "        \n",
    "    def energy(self, tensor):\n",
    "        return (tensor.pow(2).sum())\n",
    "    \n",
    "    def upsample(self, weigth, filt, filt_rec):\n",
    "        kernel_size = weigth.shape[-1]\n",
    "        filt_size = filt.shape[-1]\n",
    "        upsampeled = torch.zeros((1,1,kernel_size*2-1)).cuda() #cuda does't implements automaticly \n",
    "    \n",
    "        upsampeled[:,:,::2] = weigth\n",
    "        upsampeled_pad = F.pad(upsampeled,(math.ceil(filt_size/2),math.floor(filt_size/2))) #padding\n",
    "#         upsampeled_pad = F.pad(upsampeled,(filt_size-1,filt_size-1)) #padding\n",
    "        idx = torch.arange(upsampeled_pad.size(2)-1, -1, -1).long()\n",
    "        return upsampeled, F.conv1d(upsampeled_pad, filt), F.conv1d(upsampeled_pad[:,:,idx], filt_rec)\n",
    "        \n",
    "    def reset_weights_enc(self, weight_lo, weight_hi):\n",
    "        self.weights[0] = weight_hi\n",
    "        idx = torch.arange(weight_hi.size(2)-1, -1, -1).long()\n",
    "        self.weights_dec[0] = weight_hi[:,:,idx]\n",
    "        last_lo = weight_lo\n",
    "        last_hi = weight_hi\n",
    "#         print (self.energy(self.weight_lo), self.energy(self.weight_hi), self.energy(last_lo) , self.energy(last_hi) )\n",
    "        accumulated_lo = weight_lo\n",
    "        accumulated_lo_dec = weight_lo[:,:,idx]\n",
    "        \n",
    "        for i in range(1,self.num_layers):\n",
    "            last_hi, self.weights[i], self.weights_dec[i] = self.upsample(last_hi, accumulated_lo,\n",
    "                                                                        accumulated_lo_dec)\n",
    "            last_lo, accumulated_lo, accumulated_lo_dec = self.upsample(last_lo, accumulated_lo,\n",
    "                                                                        accumulated_lo_dec)\n",
    "        self.weights[self.num_layers] = accumulated_lo\n",
    "        self.weights_dec[self.num_layers] = accumulated_lo_dec\n",
    "        if self.disp:\n",
    "            for w in self.weights[:]:\n",
    "                print (self.energy(w.data))\n",
    "#                 plt.plot(np.linspace(0,1,w.size(2)),w.data.numpy()[0,0,:])\n",
    "        \n",
    "    def reset_weights_dec(self):\n",
    "        for i,weight in enumerate(self.weights):            \n",
    "            inv_idx = torch.arange(weight.size(2)-1, -1, -1).long()\n",
    "            self.weights_dec[i] = weight[:,:,inv_idx]\n",
    "#         for w in self.weights_dec:\n",
    "#             print (w)\n",
    "\n",
    "\n",
    "    def encoding(self,data):\n",
    "        weight_hi = self.hi_Norm(self.weight_hi)\n",
    "        weight_lo = self.lo_Norm(self.weight_lo)\n",
    "        self.reset_weights_enc(weight_hi,weight_lo)\n",
    "        encoding = torch.Tensor(data.size(0),self.num_layers+1,data.size(2)).cuda()\n",
    "        for i,weight in enumerate(self.weights):\n",
    "            filt_size = weight.size(2)-1\n",
    "            left = math.ceil(filt_size/2)\n",
    "            rigth = math.floor(filt_size/2)\n",
    "#             print (i,F.conv1d(F.pad(data,(left,rigth)), weight))\n",
    "            encoding[:,i,:] = F.conv1d(F.pad(data,(left,rigth)), weight).squeeze(1)\n",
    "        return encoding\n",
    "    \n",
    "    def decoding(self,encoding):\n",
    "#         self.reset_weights_dec()\n",
    "        decoding = torch.zeros((encoding.size(0),1,encoding.size(2))).cuda()\n",
    "        for i,weight in enumerate(self.weights_dec):\n",
    "            filt_size = weight.size(2)-1\n",
    "            left = math.floor(filt_size/2)\n",
    "            rigth = math.ceil(filt_size/2)\n",
    "#             tmp = F.conv1d(F.pad(encoding[:,i,:].unsqueeze(1),(left,rigth)), weight)\n",
    "#             print (i, tmp)\n",
    "            decoding += F.conv1d(F.pad(encoding[:,i,:].unsqueeze(1),(left,rigth)), weight)\n",
    "#             print (F.conv1d(F.pad(encoding[:,i,:].unsqueeze(1),(left,rigth)), weight))\n",
    "        return decoding\n",
    "        \n",
    "        \n",
    "        \n",
    "    def forward(self,data):\n",
    "        if self.norm:\n",
    "            weight_hi = self.hi_Norm(self.weight_hi)\n",
    "            weight_lo = self.lo_Norm(self.weight_lo)\n",
    "            self.reset_weights_enc(weight_hi,weight_lo)\n",
    "        else:\n",
    "            self.reset_weights_enc(self.weight_hi,self.weight_lo)\n",
    "        encoding = torch.Tensor(data.size(0),self.num_layers+1,data.size(2)).cuda()\n",
    "        for i,weight in enumerate(self.weights):\n",
    "            filt_size = weight.size(2)-1\n",
    "            left = math.ceil(filt_size/2)\n",
    "            rigth = math.floor(filt_size/2)\n",
    "            encoding[:,i,:] = F.conv1d(F.pad(data,(left,rigth)), weight).squeeze(1)\n",
    "        return encoding\n",
    "        \n",
    "        \n",
    "\n",
    "#     def forward(self, input):\n",
    "#         return F.conv1d(input, self.weight, self.bias, self.stride,\n",
    "#                         self.padding, self.dilation, self.groups)"
   ]
  },
  {
   "cell_type": "code",
   "execution_count": 48,
   "metadata": {},
   "outputs": [
    {
     "name": "stdout",
     "output_type": "stream",
     "text": [
      "tensor(1.4998, device='cuda:0')\n",
      "tensor(1.3761, device='cuda:0')\n",
      "tensor(0.9224, device='cuda:0')\n",
      "tensor(1.5007, device='cuda:0')\n",
      "tensor(4.8991, device='cuda:0')\n",
      "torch.Size([1, 5, 8]) torch.Size([1, 1, 8])\n"
     ]
    }
   ],
   "source": [
    "filters = torch.randn(1, 1, 10)\n",
    "inputs = torch.tensor([[[80,80,80,80,0,0,0,0]]], dtype=torch.float32).cuda()\n",
    "n = 4\n",
    "model = Wavelet(n, 8, disp = True).cuda()\n",
    "encod = model(inputs)\n",
    "# dec = model.decoding(encod)\n",
    "print (encod.size(), inputs.size())"
   ]
  },
  {
   "cell_type": "code",
   "execution_count": 7,
   "metadata": {},
   "outputs": [
    {
     "data": {
      "text/plain": [
       "(None, None, Parameter containing:\n",
       " tensor([[[ 0.4149, -0.1053, -0.3311,  0.3884,  0.3042,  0.1206,  0.4817,\n",
       "           -0.4661]]], device='cuda:0', requires_grad=True), Parameter containing:\n",
       " tensor([0.9418], device='cuda:0', requires_grad=True))"
      ]
     },
     "execution_count": 7,
     "metadata": {},
     "output_type": "execute_result"
    }
   ],
   "source": [
    "model.weight_lo.grad, model.weight_hi.grad, model.weight_lo, model.hi_Norm.L"
   ]
  },
  {
   "cell_type": "code",
   "execution_count": 49,
   "metadata": {},
   "outputs": [
    {
     "name": "stdout",
     "output_type": "stream",
     "text": [
      "tensor([0.5150], device='cuda:0', grad_fn=<SigmoidBackward>) tensor([0.4112], device='cuda:0', grad_fn=<SigmoidBackward>)\n"
     ]
    },
    {
     "data": {
      "image/png": "[encoded data removed]",
      "text/plain": [
       "<Figure size 432x288 with 1 Axes>"
      ]
     },
     "metadata": {
      "needs_background": "light"
     },
     "output_type": "display_data"
    }
   ],
   "source": [
    "from scipy import fft\n",
    "import matplotlib.pyplot as plt\n",
    "import librosa as lib\n",
    "%matplotlib inline\n",
    "\n",
    "model = Wavelet(n,12).cuda()\n",
    "encod = model(inputs)\n",
    "hi,lo = model.hi_Norm(model.weight_hi), model.lo_Norm(model.weight_lo)\n",
    "print (F.sigmoid(model.hi_Norm.L), F.sigmoid(model.hi_Norm.B))\n",
    "idx = torch.arange(hi.size(2)-1, -1, -1).long()\n",
    "hi_f,lo_f = fft(hi[0,0,idx].cpu().data.numpy()), fft(lo[0,0,idx].cpu().data.numpy())\n",
    "n = hi_f.shape[-1]\n",
    "plt.plot(range(n//2),hi_f[:n//2])\n",
    "plt.plot(range(n//2),lo_f[:n//2]);"
   ]
  },
  {
   "cell_type": "code",
   "execution_count": null,
   "metadata": {},
   "outputs": [],
   "source": []
  },
  {
   "cell_type": "code",
   "execution_count": null,
   "metadata": {},
   "outputs": [],
   "source": []
  },
  {
   "cell_type": "code",
   "execution_count": 9,
   "metadata": {},
   "outputs": [],
   "source": [
    "import torch.optim as optim\n",
    "import matplotlib.pyplot as plt\n",
    "import pandas as pd\n",
    "import numpy as np\n",
    "import sys\n",
    "import os\n",
    "sys.path.append('/home/administrator/workspace/ESC-50')\n",
    "from utils import ESC50"
   ]
  },
  {
   "cell_type": "code",
   "execution_count": 10,
   "metadata": {},
   "outputs": [
    {
     "data": {
      "text/plain": [
       "((16, 32000, 1), (16, 10))"
      ]
     },
     "execution_count": 10,
     "metadata": {},
     "output_type": "execute_result"
    }
   ],
   "source": [
    "train_splits = [1,2,3,4]\n",
    "test_split = 5\n",
    "\n",
    "shared_params = {'csv_path': '/home/administrator/workspace/ESC-50/esc50.csv',\n",
    "                 'wav_dir': '/home/administrator/workspace/ESC-50/audio',\n",
    "                 'dest_dir': '/home/administrator/workspace/ESC-50/audio/16000',\n",
    "                 'audio_rate': 16000,\n",
    "                 'only_ESC10': True,\n",
    "                 'pad': 0,\n",
    "                 'normalize': True}\n",
    "\n",
    "train_gen = ESC50(folds=train_splits,\n",
    "                  randomize=True,\n",
    "                  strongAugment=True,\n",
    "                  random_crop=True,\n",
    "                  inputLength=2,\n",
    "                  mix=False,\n",
    "                  **shared_params).batch_gen(16)\n",
    "\n",
    "test_gen = ESC50(folds=[test_split],\n",
    "                 randomize=False,\n",
    "                 strongAugment=False,\n",
    "                 random_crop=False,\n",
    "                 inputLength=4,\n",
    "                 mix=False,\n",
    "                 **shared_params).batch_gen(16)\n",
    "\n",
    "X, Y = next(train_gen)\n",
    "X.shape, Y.shape"
   ]
  },
  {
   "cell_type": "code",
   "execution_count": 11,
   "metadata": {},
   "outputs": [
    {
     "data": {
      "text/plain": [
       "torch.Size([16])"
      ]
     },
     "execution_count": 11,
     "metadata": {},
     "output_type": "execute_result"
    }
   ],
   "source": [
    "Y = torch.LongTensor(Y)\n",
    "_, k = torch.max(Y, 1)\n",
    "k.shape"
   ]
  },
  {
   "cell_type": "code",
   "execution_count": 51,
   "metadata": {},
   "outputs": [],
   "source": [
    "class classifier(nn.Module):\n",
    "    def __init__(self, wavelet_num_layers, wavelet_kernel_size, stride=1,\n",
    "                 padding=1, dilation=1, groups=1,disp = False, norm=True):\n",
    "        super(classifier, self).__init__()\n",
    "        self.wavelet_num_layers = wavelet_num_layers\n",
    "        self.wavelet_kernel_size = wavelet_kernel_size\n",
    "        \n",
    "        \n",
    "        self.wavelet = Wavelet(wavelet_num_layers, wavelet_kernel_size, disp=disp, norm=norm)\n",
    "        self.conv1 = nn.Conv1d(wavelet_num_layers+1, 15, 3)\n",
    "        self.pool = nn.MaxPool1d(2)\n",
    "        self.conv2 = nn.Conv1d(15,20,3)\n",
    "        self.conv3 = nn.Conv1d(20,25,3)\n",
    "        self.lastpool = nn.AdaptiveAvgPool1d(1)\n",
    "        self.fc1 = nn.Linear(25,120)\n",
    "        self.relu = nn.ReLU()\n",
    "        self.fc2 = nn.Linear(120,10)\n",
    "        \n",
    "    def forward(self,x):\n",
    "        \n",
    "        encoded_x = self.wavelet(x)\n",
    "        output = self.pool(self.conv1(encoded_x))\n",
    "        output = self.pool(self.conv2(output))\n",
    "        output = self.conv3(output)\n",
    "        output = self.lastpool(output)\n",
    "        output = self.relu(self.fc1(output.squeeze()))\n",
    "        output = self.fc2(output)\n",
    "        \n",
    "        return output"
   ]
  },
  {
   "cell_type": "code",
   "execution_count": 69,
   "metadata": {},
   "outputs": [
    {
     "data": {
      "text/plain": [
       "classifier(\n",
       "  (wavelet): Wavelet()\n",
       "  (conv1): Conv1d(5, 15, kernel_size=(3,), stride=(1,))\n",
       "  (pool): MaxPool1d(kernel_size=2, stride=2, padding=0, dilation=1, ceil_mode=False)\n",
       "  (conv2): Conv1d(15, 20, kernel_size=(3,), stride=(1,))\n",
       "  (conv3): Conv1d(20, 25, kernel_size=(3,), stride=(1,))\n",
       "  (lastpool): AdaptiveAvgPool1d(output_size=1)\n",
       "  (fc1): Linear(in_features=25, out_features=120, bias=True)\n",
       "  (relu): ReLU()\n",
       "  (fc2): Linear(in_features=120, out_features=10, bias=True)\n",
       ")"
      ]
     },
     "execution_count": 69,
     "metadata": {},
     "output_type": "execute_result"
    }
   ],
   "source": [
    "net = classifier(4, 8, disp=False, norm=False)\n",
    "net.cuda()\n"
   ]
  },
  {
   "cell_type": "code",
   "execution_count": 70,
   "metadata": {},
   "outputs": [],
   "source": [
    "optimizer = optim.SGD(net.parameters(), lr=0.06, momentum=0.9)\n",
    "# writer = SummaryWriter()\n",
    "def criterion(outputs, labels, w_hi, w_lo, C, l2):\n",
    "    criterion = nn.CrossEntropyLoss()\n",
    "    loss = (w_hi.pow(2).sum()-1).pow(2)+(w_lo.pow(2).sum()-1).pow(2)\n",
    "    return (criterion(outputs, labels)+C*loss+l2*w_hi.sum().pow(2))"
   ]
  },
  {
   "cell_type": "code",
   "execution_count": null,
   "metadata": {
    "scrolled": true
   },
   "outputs": [
    {
     "name": "stdout",
     "output_type": "stream",
     "text": [
      "tensor(1.0000, device='cuda:0', grad_fn=<SumBackward0>) tensor(1.0000, device='cuda:0', grad_fn=<SumBackward0>) tensor(2.9355e-06, device='cuda:0', grad_fn=<SumBackward0>) tensor(2.3072, device='cuda:0')\n"
     ]
    },
    {
     "data": {
      "image/png": "[encoded data removed]",
      "text/plain": [
       "<Figure size 432x288 with 1 Axes>"
      ]
     },
     "metadata": {
      "needs_background": "light"
     },
     "output_type": "display_data"
    },
    {
     "name": "stdout",
     "output_type": "stream",
     "text": [
      "tensor(1.0164, device='cuda:0', grad_fn=<SumBackward0>) tensor(1.0072, device='cuda:0', grad_fn=<SumBackward0>) tensor(-0.0005, device='cuda:0', grad_fn=<SumBackward0>) tensor(2.3017, device='cuda:0')\n"
     ]
    },
    {
     "data": {
      "image/png": "[encoded data removed]",
      "text/plain": [
       "<Figure size 432x288 with 1 Axes>"
      ]
     },
     "metadata": {
      "needs_background": "light"
     },
     "output_type": "display_data"
    },
    {
     "name": "stdout",
     "output_type": "stream",
     "text": [
      "tensor(1.6085, device='cuda:0', grad_fn=<SumBackward0>) tensor(1.1598, device='cuda:0', grad_fn=<SumBackward0>) tensor(-0.0665, device='cuda:0', grad_fn=<SumBackward0>) tensor(2.3035, device='cuda:0')\n"
     ]
    },
    {
     "data": {
      "image/png": "[encoded data removed]",
      "text/plain": [
       "<Figure size 432x288 with 1 Axes>"
      ]
     },
     "metadata": {
      "needs_background": "light"
     },
     "output_type": "display_data"
    },
    {
     "name": "stdout",
     "output_type": "stream",
     "text": [
      "tensor(1.4570, device='cuda:0', grad_fn=<SumBackward0>) tensor(1.1356, device='cuda:0', grad_fn=<SumBackward0>) tensor(0.0014, device='cuda:0', grad_fn=<SumBackward0>) tensor(1.9179, device='cuda:0')\n"
     ]
    },
    {
     "data": {
      "image/png": "[encoded data removed]",
      "text/plain": [
       "<Figure size 432x288 with 1 Axes>"
      ]
     },
     "metadata": {
      "needs_background": "light"
     },
     "output_type": "display_data"
    },
    {
     "name": "stdout",
     "output_type": "stream",
     "text": [
      "tensor(1.4692, device='cuda:0', grad_fn=<SumBackward0>) tensor(1.1741, device='cuda:0', grad_fn=<SumBackward0>) tensor(0.0577, device='cuda:0', grad_fn=<SumBackward0>) tensor(1.8134, device='cuda:0')\n"
     ]
    },
    {
     "data": {
      "image/png": "[encoded data removed]",
      "text/plain": [
       "<Figure size 432x288 with 1 Axes>"
      ]
     },
     "metadata": {
      "needs_background": "light"
     },
     "output_type": "display_data"
    },
    {
     "name": "stdout",
     "output_type": "stream",
     "text": [
      "tensor(1.5746, device='cuda:0', grad_fn=<SumBackward0>) tensor(1.1259, device='cuda:0', grad_fn=<SumBackward0>) tensor(-0.0498, device='cuda:0', grad_fn=<SumBackward0>) tensor(1.9159, device='cuda:0')\n"
     ]
    },
    {
     "data": {
      "image/png": "[encoded data removed]",
      "text/plain": [
       "<Figure size 432x288 with 1 Axes>"
      ]
     },
     "metadata": {
      "needs_background": "light"
     },
     "output_type": "display_data"
    },
    {
     "name": "stdout",
     "output_type": "stream",
     "text": [
      "tensor(1.3154, device='cuda:0', grad_fn=<SumBackward0>) tensor(1.1679, device='cuda:0', grad_fn=<SumBackward0>) tensor(0.0721, device='cuda:0', grad_fn=<SumBackward0>) tensor(1.7851, device='cuda:0')\n"
     ]
    },
    {
     "data": {
      "image/png": "[encoded data removed]",
      "text/plain": [
       "<Figure size 432x288 with 1 Axes>"
      ]
     },
     "metadata": {
      "needs_background": "light"
     },
     "output_type": "display_data"
    }
   ],
   "source": [
    "i = 0\n",
    "C = 0.07\n",
    "l2 = 0.03\n",
    "for epoch in range(100):  # loop over the dataset multiple times\n",
    "    \n",
    "    train_gen = ESC50(folds=train_splits,\n",
    "                  randomize=True,\n",
    "                  strongAugment=True,\n",
    "                  random_crop=True,\n",
    "                  inputLength=2,\n",
    "                  mix=False,\n",
    "                  **shared_params).batch_gen(64)\n",
    "    \n",
    "    running_loss = 0.0\n",
    "    for inputs, labels in train_gen:\n",
    "        # get the inputs\n",
    "        inputs, labels = torch.Tensor(inputs).transpose(1,2).cuda(), torch.LongTensor(labels).cuda()\n",
    "\n",
    "        # zero the parameter gradients\n",
    "        optimizer.zero_grad()\n",
    "\n",
    "        # forward + backward + optimize\n",
    "        outputs = net(inputs)\n",
    "\n",
    "        _, labels = torch.max(labels, 1)\n",
    "        \n",
    "        loss = criterion(outputs, labels, net.wavelet.weight_hi, net.wavelet.weight_lo, C, l2)\n",
    "        loss.backward()\n",
    "        optimizer.step()\n",
    "        \n",
    "#         print (net.wavelet.lo_Norm.L.grad)\n",
    "        \n",
    "        if i%100 == 0:\n",
    "            if net.wavelet.norm:\n",
    "                hi,lo = net.wavelet.hi_Norm(net.wavelet.weight_hi), net.wavelet.lo_Norm(net.wavelet.weight_lo)\n",
    "                print (net.wavelet.energy(hi), net.wavelet.energy(lo), \\\n",
    "                       net.wavelet.hi_Norm.B, loss.data)\n",
    "            else:\n",
    "                hi,lo = net.wavelet.weight_hi, net.wavelet.weight_lo\n",
    "                print (net.wavelet.energy(hi), net.wavelet.energy(lo), \\\n",
    "                       hi.sum(), loss.data)\n",
    "                \n",
    "            idx = torch.arange(hi.size(2)-1, -1, -1).long()\n",
    "            hi_f,lo_f = fft(hi[0,0,idx].cpu().data.numpy()), fft(lo[0,0,idx].cpu().data.numpy())\n",
    "            n = hi_f.shape[-1]\n",
    "            plt.plot(range(n//2),hi_f[:n//2])\n",
    "            plt.plot(range(n//2),lo_f[:n//2])\n",
    "            plt.show()\n",
    "        i+=1\n",
    "#         print (net.wavelet.energy(net.wavelet.weight_lo), net.wavelet.energy(net.wavelet.weight_hi), net.wavelet.lo_Norm.L.grad, loss.data)\n",
    "        \n",
    "#         writer.add_scalar(\"loss\", loss.item())"
   ]
  },
  {
   "cell_type": "code",
   "execution_count": 17,
   "metadata": {},
   "outputs": [
    {
     "data": {
      "text/plain": [
       "(Parameter containing:\n",
       " tensor([0.9811], device='cuda:0', requires_grad=True),\n",
       " tensor(3.4062, device='cuda:0', grad_fn=<SumBackward0>),\n",
       " tensor(1.3571, device='cuda:0', grad_fn=<SumBackward0>))"
      ]
     },
     "execution_count": 17,
     "metadata": {},
     "output_type": "execute_result"
    }
   ],
   "source": [
    "net.wavelet.hi_Norm.L, net.wavelet.hi_Norm(net.wavelet.weight_hi).pow(2).sum(), net.wavelet.weight_hi.pow(2).sum()"
   ]
  },
  {
   "cell_type": "code",
   "execution_count": 20,
   "metadata": {},
   "outputs": [
    {
     "data": {
      "text/plain": [
       "(Parameter containing:\n",
       " tensor([0.9811], device='cuda:0', requires_grad=True), Parameter containing:\n",
       " tensor([-4.3558], device='cuda:0', requires_grad=True))"
      ]
     },
     "execution_count": 20,
     "metadata": {},
     "output_type": "execute_result"
    }
   ],
   "source": [
    "net.wavelet.hi_Norm.L, net.wavelet.hi_Norm.B"
   ]
  },
  {
   "cell_type": "code",
   "execution_count": 33,
   "metadata": {},
   "outputs": [
    {
     "data": {
      "text/plain": [
       "(tensor(1.1783, device='cuda:0', grad_fn=<SumBackward0>),\n",
       " tensor(3.4069, device='cuda:0', grad_fn=<SumBackward0>))"
      ]
     },
     "execution_count": 33,
     "metadata": {},
     "output_type": "execute_result"
    }
   ],
   "source": [
    "net.wavelet.weight_hi.pow(2).sum(), net.wavelet.hi_Norm(net.wavelet.weight_hi).pow(2).sum()\n",
    "# F.sigmoid(net.wavelet.hi_Norm.B)-0.5"
   ]
  },
  {
   "cell_type": "code",
   "execution_count": 28,
   "metadata": {},
   "outputs": [
    {
     "data": {
      "text/plain": [
       "Parameter containing:\n",
       "tensor([-4.4912], device='cuda:0', requires_grad=True)"
      ]
     },
     "execution_count": 28,
     "metadata": {},
     "output_type": "execute_result"
    }
   ],
   "source": [
    "net.fc2.weight.grad.pow(2).sum()\n",
    "net.wavelet.hi_Norm.B"
   ]
  },
  {
   "cell_type": "code",
   "execution_count": 105,
   "metadata": {},
   "outputs": [
    {
     "data": {
      "text/plain": [
       "tensor([0.0167, 0.0502, 0.6997, 0.2333], device='cuda:0')"
      ]
     },
     "execution_count": 105,
     "metadata": {},
     "output_type": "execute_result"
    }
   ],
   "source": [
    "tensor = torch.Tensor([-0.1294, -0.2241, 0.8365, -0.4830]).cuda()\n",
    "tensor.pow(2)"
   ]
  },
  {
   "cell_type": "code",
   "execution_count": null,
   "metadata": {},
   "outputs": [],
   "source": []
  },
  {
   "cell_type": "code",
   "execution_count": null,
   "metadata": {},
   "outputs": [],
   "source": []
  },
  {
   "cell_type": "code",
   "execution_count": null,
   "metadata": {},
   "outputs": [],
   "source": []
  },
  {
   "cell_type": "code",
   "execution_count": 45,
   "metadata": {},
   "outputs": [
    {
     "data": {
      "text/plain": [
       "[<matplotlib.lines.Line2D at 0x7f4d46ffae10>]"
      ]
     },
     "execution_count": 45,
     "metadata": {},
     "output_type": "execute_result"
    },
    {
     "data": {
      "image/png": "[encoded data removed]",
      "text/plain": [
       "<Figure size 432x288 with 1 Axes>"
      ]
     },
     "metadata": {
      "needs_background": "light"
     },
     "output_type": "display_data"
    }
   ],
   "source": [
    "data = []\n",
    "for i in range(-100,100):\n",
    "    data.append(F.sigmoid(torch.Tensor([i]))-0.5)\n",
    "plt.plot(data)"
   ]
  },
  {
   "cell_type": "code",
   "execution_count": 181,
   "metadata": {},
   "outputs": [
    {
     "data": {
      "image/png": "[encoded data removed]",
      "text/plain": [
       "<Figure size 432x288 with 1 Axes>"
      ]
     },
     "metadata": {
      "needs_background": "light"
     },
     "output_type": "display_data"
    }
   ],
   "source": [
    "hi,lo = net.wavelet.hi_Norm(net.wavelet.weight_hi), net.wavelet.lo_Norm(net.wavelet.weight_lo)\n",
    "idx = torch.arange(hi.size(2)-1, -1, -1).long()\n",
    "hi_f,lo_f = fft(hi[0,0,idx].cpu().data.numpy()), fft(lo[0,0,idx].cpu().data.numpy())\n",
    "n = hi_f.shape[-1]\n",
    "plt.plot(range(n//2),hi_f[:n//2])\n",
    "plt.plot(range(n//2),lo_f[:n//2]);"
   ]
  }
 ],
 "metadata": {
  "kernelspec": {
   "display_name": "Python 3",
   "language": "python",
   "name": "python3"
  },
  "language_info": {
   "codemirror_mode": {
    "name": "ipython",
    "version": 3
   },
   "file_extension": ".py",
   "mimetype": "text/x-python",
   "name": "python",
   "nbconvert_exporter": "python",
   "pygments_lexer": "ipython3",
   "version": "3.6.6"
  }
 },
 "nbformat": 4,
 "nbformat_minor": 2
}
