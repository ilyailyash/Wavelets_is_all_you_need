{
 "cells": [
  {
   "cell_type": "code",
   "execution_count": 8,
   "metadata": {
    "scrolled": true
   },
   "outputs": [],
   "source": [
    "import torch\n",
    "from torch import nn\n",
    "import torch.nn.functional as F\n",
    "import numpy as np\n",
    "import math\n",
    "import copy\n",
    "import matplotlib.pyplot as plt\n",
    "%matplotlib inline\n",
    "from tensorboardX import SummaryWriter\n",
    "\n",
    "from scipy import fft\n",
    "import librosa\n",
    "\n",
    "import torch.optim as optim\n",
    "import pandas as pd\n",
    "import numpy as np\n",
    "import sys\n",
    "import os\n",
    "sys.path.append('/home/administrator/workspace/ESC-50')\n",
    "from utils import ESC50"
   ]
  },
  {
   "cell_type": "code",
   "execution_count": 4,
   "metadata": {},
   "outputs": [],
   "source": [
    "class Normalisation(nn.Module):\n",
    "    def __init__(self,hi,eps=1e-6):\n",
    "        super(Normalisation, self).__init__()\n",
    "        self.L = nn.Parameter(torch.Tensor(1))\n",
    "        self.B = nn.Parameter(torch.Tensor(1))\n",
    "        self.hi = hi\n",
    "        self.eps = eps\n",
    "        self.reset_parameters()\n",
    "        self.Sigmoid = nn.Sigmoid()\n",
    "        \n",
    "    def reset_parameters(self):\n",
    "        nn.init.uniform_(self.L,-1,1)\n",
    "        nn.init.uniform_(self.B,-1,1)\n",
    "    \n",
    "    def mul_sigmoid(self, weight):\n",
    "        return self.Sigmoid(weight)+0.5\n",
    "    \n",
    "    def add_sigmoid(self, weight):\n",
    "        return self.Sigmoid(weight)-0.5 \n",
    "    \n",
    "    def forward(self, weight):\n",
    "        \n",
    "        if self.hi:\n",
    "            mean = weight.mean(-1)\n",
    "            weight = weight-mean\n",
    "            div = torch.sqrt(weight.pow(2).sum(-1)+self.eps)\n",
    "            normilized_weight = weight/div\n",
    "            normilized_weight = self.mul_sigmoid(self.L)*normilized_weight+self.add_sigmoid(self.B)\n",
    "        else:            \n",
    "            div = torch.sqrt(weight.pow(2).sum(-1)+self.eps)\n",
    "            normilized_weight = weight/div\n",
    "            normilized_weight = self.mul_sigmoid(self.L)*normilized_weight \n",
    "\n",
    "        return normilized_weight\n",
    "        "
   ]
  },
  {
   "cell_type": "code",
   "execution_count": 5,
   "metadata": {},
   "outputs": [],
   "source": [
    "class Wavelet(nn.Module):\n",
    "    def __init__(self, num_layers, kernel_size, stride=1,\n",
    "                 padding=1, dilation=1, groups=1, disp=False, norm=False):\n",
    "        super(Wavelet, self).__init__()\n",
    "        \n",
    "        self.num_layers = num_layers\n",
    "        self.kernel_size = kernel_size\n",
    "        self.stride = stride\n",
    "        self.padding = padding\n",
    "        self.dilation = dilation\n",
    "        self.groups = groups\n",
    "        self.disp = disp\n",
    "        self.norm = norm\n",
    "        \n",
    "        if self.norm:\n",
    "            self.hi_Norm = Normalisation(True)\n",
    "            self.lo_Norm = Normalisation(False)\n",
    "        self.weight_hi = nn.Parameter(torch.Tensor(1,1,kernel_size).cuda())\n",
    "        self.weight_lo = nn.Parameter(torch.Tensor(1,1,kernel_size).cuda())\n",
    "        \n",
    "        self.weights = []\n",
    "        self.weights.append(self.weight_hi) \n",
    "        for i in range(1,num_layers):\n",
    "            self.weights.append(torch.Tensor(1,1,kernel_size*(2**i)))\n",
    "        self.weights.append(torch.Tensor(1,1,kernel_size*2**(num_layers-1)))\n",
    "        \n",
    "        self.weights_dec = copy.deepcopy(self.weights)\n",
    "        \n",
    "        self.reset_parameters()\n",
    "\n",
    "# # Из фильтра высоких частот        \n",
    "    def reset_parameters(self):\n",
    "        nn.init.xavier_uniform_(self.weight_hi)\n",
    "#         nn.init.uniform_(self.weight_lo)\n",
    "#         self.weight_lo = nn.Parameter(torch.tensor([[[1,1]]], dtype=torch.float32))\n",
    "#         self.weight_hi = nn.Parameter(torch.tensor([[[0,-0.48296291314469025,0.836516303737469, \\\n",
    "#                         -0.22414386804185735,-0.12940952255092145,0]]], dtype=torch.float32))\n",
    "        weight_hi = self.weight_hi-self.weight_hi.mean()\n",
    "        self.weight_hi = nn.Parameter(weight_hi/torch.sqrt(self.energy(weight_hi)))\n",
    "        idx = torch.arange(self.weight_lo.size(2)-1, -1, -1).long()\n",
    "        weight_lo = self.weight_hi[:,:,idx]\n",
    "        odd = torch.arange(1, self.weight_lo.size(2), 2).long()\n",
    "        weight_lo[:,:,odd] = weight_lo[:,:,odd]*-1\n",
    "        self.weight_lo = nn.Parameter(weight_lo)\n",
    "\n",
    "        \n",
    "    def energy(self, tensor):\n",
    "        return (tensor.pow(2).sum())\n",
    "    \n",
    "    def upsample(self, weigth, filt, filt_rec):\n",
    "        kernel_size = weigth.shape[-1]\n",
    "        filt_size = filt.shape[-1]\n",
    "        upsampeled = torch.zeros((1,1,kernel_size*2-1)).cuda() #cuda does't implements automaticly \n",
    "    \n",
    "        upsampeled[:,:,::2] = weigth\n",
    "        upsampeled_pad = F.pad(upsampeled,(math.ceil(filt_size/2),math.floor(filt_size/2))) #padding\n",
    "#         upsampeled_pad = F.pad(upsampeled,(filt_size-1,filt_size-1)) #padding\n",
    "        idx = torch.arange(upsampeled_pad.size(2)-1, -1, -1).long()\n",
    "        return upsampeled, F.conv1d(upsampeled_pad, filt), F.conv1d(upsampeled_pad[:,:,idx], filt_rec)\n",
    "        \n",
    "    def reset_weights_enc(self, weight_lo, weight_hi):\n",
    "        self.weights[0] = weight_hi\n",
    "        idx = torch.arange(weight_hi.size(2)-1, -1, -1).long()\n",
    "        self.weights_dec[0] = weight_hi[:,:,idx]\n",
    "        last_lo = weight_lo\n",
    "        last_hi = weight_hi\n",
    "#         print (self.energy(self.weight_lo), self.energy(self.weight_hi), self.energy(last_lo) , self.energy(last_hi) )\n",
    "        accumulated_lo = weight_lo\n",
    "        accumulated_lo_dec = weight_lo[:,:,idx]\n",
    "        \n",
    "        for i in range(1,self.num_layers):\n",
    "            last_hi, self.weights[i], self.weights_dec[i] = self.upsample(last_hi, accumulated_lo,\n",
    "                                                                        accumulated_lo_dec)\n",
    "            last_lo, accumulated_lo, accumulated_lo_dec = self.upsample(last_lo, accumulated_lo,\n",
    "                                                                        accumulated_lo_dec)\n",
    "        self.weights[self.num_layers] = accumulated_lo\n",
    "        self.weights_dec[self.num_layers] = accumulated_lo_dec\n",
    "        if self.disp:\n",
    "            for w in self.weights[:]:\n",
    "                print (self.energy(w.data))\n",
    "#                 plt.plot(np.linspace(0,1,w.size(2)),w.data.numpy()[0,0,:])\n",
    "        \n",
    "    def reset_weights_dec(self):\n",
    "        for i,weight in enumerate(self.weights):            \n",
    "            inv_idx = torch.arange(weight.size(2)-1, -1, -1).long()\n",
    "            self.weights_dec[i] = weight[:,:,inv_idx]\n",
    "#         for w in self.weights_dec:\n",
    "#             print (w)\n",
    "\n",
    "\n",
    "    def encoding(self,data):\n",
    "        if self.norm:\n",
    "            weight_hi = self.hi_Norm(self.weight_hi)\n",
    "            weight_lo = self.lo_Norm(self.weight_lo)\n",
    "            self.reset_weights_enc(weight_hi,weight_lo)\n",
    "        else:\n",
    "            self.reset_weights_enc(self.weight_hi,self.weight_lo)\n",
    "        encoding = torch.Tensor(data.size(0),self.num_layers+1,data.size(2)).cuda()\n",
    "        for i,weight in enumerate(self.weights):\n",
    "            filt_size = weight.size(2)-1\n",
    "            left = math.ceil(filt_size/2)\n",
    "            rigth = math.floor(filt_size/2)\n",
    "#             print (i,F.conv1d(F.pad(data,(left,rigth)), weight))\n",
    "            encoding[:,i,:] = F.conv1d(F.pad(data,(left,rigth)), weight).squeeze(1)\n",
    "        return encoding\n",
    "    \n",
    "    def decoding(self,encoding):\n",
    "#         self.reset_weights_dec()\n",
    "        decoding = torch.zeros((encoding.size(0),1,encoding.size(2))).cuda()\n",
    "        for i,weight in enumerate(self.weights_dec):\n",
    "            filt_size = weight.size(2)-1\n",
    "            left = math.floor(filt_size/2)\n",
    "            rigth = math.ceil(filt_size/2)\n",
    "#             tmp = F.conv1d(F.pad(encoding[:,i,:].unsqueeze(1),(left,rigth)), weight)\n",
    "#             print (i, tmp)\n",
    "            decoding += F.conv1d(F.pad(encoding[:,i,:].unsqueeze(1),(left,rigth)), weight)\n",
    "#             print (F.conv1d(F.pad(encoding[:,i,:].unsqueeze(1),(left,rigth)), weight))\n",
    "        return decoding\n",
    "        \n",
    "        \n",
    "        \n",
    "    def forward(self,data):\n",
    "        if self.norm:\n",
    "            weight_hi = self.hi_Norm(self.weight_hi)\n",
    "            weight_lo = self.lo_Norm(self.weight_lo)\n",
    "            self.reset_weights_enc(weight_hi,weight_lo)\n",
    "        else:\n",
    "            self.reset_weights_enc(self.weight_hi,self.weight_lo)\n",
    "        encoding = torch.Tensor(data.size(0),self.num_layers+1,data.size(2)).cuda()\n",
    "        for i,weight in enumerate(self.weights):\n",
    "            filt_size = weight.size(2)-1\n",
    "            left = math.ceil(filt_size/2)\n",
    "            rigth = math.floor(filt_size/2)\n",
    "            encoding[:,i,:] = F.conv1d(F.pad(data,(left,rigth)), weight).squeeze(1)\n",
    "        return encoding\n",
    "        \n",
    "        \n",
    "\n",
    "#     def forward(self, input):\n",
    "#         return F.conv1d(input, self.weight, self.bias, self.stride,\n",
    "#                         self.padding, self.dilation, self.groups)"
   ]
  },
  {
   "cell_type": "code",
   "execution_count": 55,
   "metadata": {},
   "outputs": [
    {
     "name": "stdout",
     "output_type": "stream",
     "text": [
      "tensor(490.4658, device='cuda:0', grad_fn=<MeanBackward1>)\n"
     ]
    }
   ],
   "source": [
    "filters = torch.randn(1, 1, 10)\n",
    "inputs = torch.tensor([[[256,45,78,14,98,11,214,657,11,125]]], dtype=torch.float32).cuda()\n",
    "n = 4\n",
    "model = Wavelet(n, 6, disp = False).cuda()\n",
    "encod = model.encoding(inputs)\n",
    "dec = model.decoding(encod)\n",
    "print (torch.abs(inputs-dec).mean())"
   ]
  },
  {
   "cell_type": "code",
   "execution_count": 214,
   "metadata": {},
   "outputs": [
    {
     "data": {
      "text/plain": [
       "tensor([[[ 0.9707, -0.3055, -0.5481,  0.0000, -0.5481,  0.3055]]],\n",
       "       device='cuda:0', grad_fn=<ThAddBackward>)"
      ]
     },
     "execution_count": 214,
     "metadata": {},
     "output_type": "execute_result"
    }
   ],
   "source": [
    "\n",
    "\n",
    "filt_1 = model.weights[1]\n",
    "_filt_1 = model.weights_dec[1]\n",
    "\n",
    "filt_size = filt_1.size(2)-1\n",
    "left = math.ceil(filt_size/2)\n",
    "rigth = math.floor(filt_size/2)\n",
    "full_filt = F.conv1d(F.pad(inputs,(left,rigth)), filt_1)\n",
    "\n",
    "F.conv1d(F.pad(filt_1,(left,rigth)), _filt_1) + \\\n",
    "F.conv1d(F.pad(model.weights[0],(left,rigth)), model.weights_dec[0])"
   ]
  },
  {
   "cell_type": "code",
   "execution_count": 215,
   "metadata": {},
   "outputs": [
    {
     "data": {
      "text/plain": [
       "(Parameter containing:\n",
       " tensor([[[-0.1365,  0.4341,  0.0278, -0.4969, -0.4987, -0.5446]]],\n",
       "        device='cuda:0', requires_grad=True), Parameter containing:\n",
       " tensor([[[ 0.5446, -0.4987,  0.4969,  0.0278, -0.4341, -0.1365]]],\n",
       "        device='cuda:0', requires_grad=True))"
      ]
     },
     "execution_count": 215,
     "metadata": {},
     "output_type": "execute_result"
    }
   ],
   "source": [
    "model.weights[0], model.weights[1]"
   ]
  },
  {
   "cell_type": "code",
   "execution_count": null,
   "metadata": {},
   "outputs": [],
   "source": []
  },
  {
   "cell_type": "code",
   "execution_count": 216,
   "metadata": {},
   "outputs": [],
   "source": [
    "\n",
    "\n",
    "# model = Wavelet(n,12).cuda()\n",
    "# encod = model(inputs)\n",
    "# hi,lo = model.hi_Norm(model.weight_hi), model.lo_Norm(model.weight_lo)\n",
    "# print (F.sigmoid(model.hi_Norm.L), F.sigmoid(model.hi_Norm.B))\n",
    "# idx = torch.arange(hi.size(2)-1, -1, -1).long()\n",
    "# hi_f,lo_f = fft(hi[0,0,idx].cpu().data.numpy()), fft(lo[0,0,idx].cpu().data.numpy())\n",
    "# n = hi_f.shape[-1]\n",
    "# plt.plot(range(n//2),hi_f[:n//2])\n",
    "# plt.plot(range(n//2),lo_f[:n//2]);"
   ]
  },
  {
   "cell_type": "code",
   "execution_count": null,
   "metadata": {},
   "outputs": [],
   "source": []
  },
  {
   "cell_type": "code",
   "execution_count": null,
   "metadata": {},
   "outputs": [],
   "source": []
  },
  {
   "cell_type": "code",
   "execution_count": null,
   "metadata": {},
   "outputs": [],
   "source": []
  },
  {
   "cell_type": "code",
   "execution_count": 7,
   "metadata": {},
   "outputs": [
    {
     "data": {
      "text/plain": [
       "((16, 80000, 1), (16, 10))"
      ]
     },
     "execution_count": 7,
     "metadata": {},
     "output_type": "execute_result"
    }
   ],
   "source": [
    "train_splits = [1,2,3,4]\n",
    "test_split = 5\n",
    "\n",
    "shared_params = {'csv_path': '/home/administrator/workspace/ESC-50/esc50.csv',\n",
    "                 'wav_dir': '/home/administrator/workspace/ESC-50/audio',\n",
    "                 'dest_dir': '/home/administrator/workspace/ESC-50/audio/16000',\n",
    "                 'audio_rate': 16000,\n",
    "                 'only_ESC10': True,\n",
    "                 'pad': 0,\n",
    "                 'normalize': True}\n",
    "\n",
    "train_gen = ESC50(folds=train_splits,\n",
    "                  randomize=True,\n",
    "                  strongAugment=True,\n",
    "                  random_crop=True,\n",
    "                  inputLength=2,\n",
    "                  mix=False,\n",
    "                  **shared_params).batch_gen(16)\n",
    "\n",
    "test_gen = ESC50(folds=[test_split],\n",
    "                 randomize=False,\n",
    "                 strongAugment=False,\n",
    "                 random_crop=False,\n",
    "                 inputLength=4,\n",
    "                 mix=False,\n",
    "                 **shared_params).batch_gen(16)\n",
    "\n",
    "X, Y = next(test_gen)\n",
    "X.shape, Y.shape"
   ]
  },
  {
   "cell_type": "code",
   "execution_count": 20,
   "metadata": {},
   "outputs": [],
   "source": [
    "class classifier(nn.Module):\n",
    "    def __init__(self, wavelet_num_layers, wavelet_kernel_size, stride=1,\n",
    "                 padding=1, dilation=1, groups=1,disp = False, norm=True):\n",
    "        super(classifier, self).__init__()\n",
    "        self.wavelet_num_layers = wavelet_num_layers\n",
    "        self.wavelet_kernel_size = wavelet_kernel_size\n",
    "        \n",
    "        \n",
    "        self.wavelet = Wavelet(wavelet_num_layers, wavelet_kernel_size, disp=disp, norm=norm)\n",
    "        self.conv1 = nn.Conv1d(wavelet_num_layers+1, 15, 3)\n",
    "        self.pool = nn.MaxPool1d(2)\n",
    "        self.conv2 = nn.Conv1d(15,20,3)\n",
    "        self.conv3 = nn.Conv1d(20,25,3)\n",
    "        self.lastpool = nn.AdaptiveAvgPool1d(1)\n",
    "        self.fc1 = nn.Linear(25,120)\n",
    "        self.relu = nn.ReLU()\n",
    "        self.fc2 = nn.Linear(120,10)\n",
    "        \n",
    "    def forward(self,x):\n",
    "        \n",
    "        encoded_x = self.wavelet(x)\n",
    "        print (encoded_x.size())\n",
    "        output = self.pool(self.conv1(encoded_x))\n",
    "        output = self.pool(self.conv2(output))\n",
    "        output = self.conv3(output)\n",
    "        output = self.lastpool(output)\n",
    "        output = self.relu(self.fc1(output.squeeze()))\n",
    "        output = self.fc2(output)\n",
    "        \n",
    "        return output"
   ]
  },
  {
   "cell_type": "code",
   "execution_count": 21,
   "metadata": {},
   "outputs": [
    {
     "data": {
      "text/plain": [
       "classifier(\n",
       "  (wavelet): Wavelet()\n",
       "  (conv1): Conv1d(8, 15, kernel_size=(3,), stride=(1,))\n",
       "  (pool): MaxPool1d(kernel_size=2, stride=2, padding=0, dilation=1, ceil_mode=False)\n",
       "  (conv2): Conv1d(15, 20, kernel_size=(3,), stride=(1,))\n",
       "  (conv3): Conv1d(20, 25, kernel_size=(3,), stride=(1,))\n",
       "  (lastpool): AdaptiveAvgPool1d(output_size=1)\n",
       "  (fc1): Linear(in_features=25, out_features=120, bias=True)\n",
       "  (relu): ReLU()\n",
       "  (fc2): Linear(in_features=120, out_features=10, bias=True)\n",
       ")"
      ]
     },
     "execution_count": 21,
     "metadata": {},
     "output_type": "execute_result"
    }
   ],
   "source": [
    "net = classifier(7, 10, disp=False, norm=False)\n",
    "net.cuda()\n"
   ]
  },
  {
   "cell_type": "code",
   "execution_count": null,
   "metadata": {},
   "outputs": [],
   "source": [
    "writer = SummaryWriter()\n",
    "def criterion(outputs, labels, w_hi, w_lo, C, l2):\n",
    "    criterion = nn.CrossEntropyLoss()\n",
    "    loss = (w_hi.pow(2).sum()-1).pow(2)+(w_lo.pow(2).sum()-1).pow(2)\n",
    "    return (criterion(outputs, labels)+C*loss+l2*w_hi.sum().pow(2))"
   ]
  },
  {
   "cell_type": "code",
   "execution_count": 97,
   "metadata": {},
   "outputs": [],
   "source": [
    "optimizer = optim.SGD(net.parameters(), lr=0.06, momentum=0.9)\n",
    "scheduler = optim.lr_scheduler.ReduceLROnPlateau(optimizer, factor=0.7,patience=150, verbose=True, threshold=0.01)"
   ]
  },
  {
   "cell_type": "code",
   "execution_count": 98,
   "metadata": {
    "scrolled": true
   },
   "outputs": [
    {
     "name": "stdout",
     "output_type": "stream",
     "text": [
      "torch.Size([128, 8, 32000])\n",
      "0 0 tensor(1.0000, device='cuda:0', grad_fn=<SumBackward0>) tensor(1.0000, device='cuda:0', grad_fn=<SumBackward0>) tensor(0.0001, device='cuda:0', grad_fn=<SumBackward0>) tensor(2.3138, device='cuda:0')\n"
     ]
    },
    {
     "name": "stderr",
     "output_type": "stream",
     "text": [
      "/home/administrator/.conda/envs/torch/lib/python3.6/site-packages/numpy/core/numeric.py:501: ComplexWarning: Casting complex values to real discards the imaginary part\n",
      "  return array(a, dtype, copy=False, order=order)\n"
     ]
    },
    {
     "data": {
      "image/png": "[encoded data removed]",
      "text/plain": [
       "<Figure size 432x288 with 1 Axes>"
      ]
     },
     "metadata": {
      "needs_background": "light"
     },
     "output_type": "display_data"
    },
    {
     "name": "stdout",
     "output_type": "stream",
     "text": [
      "torch.Size([128, 8, 32000])\n",
      "torch.Size([128, 8, 32000])\n",
      "torch.Size([128, 8, 32000])\n",
      "torch.Size([128, 8, 32000])\n",
      "torch.Size([128, 8, 32000])\n",
      "torch.Size([128, 8, 32000])\n"
     ]
    },
    {
     "ename": "KeyboardInterrupt",
     "evalue": "",
     "output_type": "error",
     "traceback": [
      "\u001b[0;31m---------------------------------------------------------------------------\u001b[0m",
      "\u001b[0;31mKeyboardInterrupt\u001b[0m                         Traceback (most recent call last)",
      "\u001b[0;32m<ipython-input-98-fb1fa32a948e>\u001b[0m in \u001b[0;36m<module>\u001b[0;34m\u001b[0m\n\u001b[1;32m     25\u001b[0m         \u001b[0m_\u001b[0m\u001b[0;34m,\u001b[0m \u001b[0mlabels\u001b[0m \u001b[0;34m=\u001b[0m \u001b[0mtorch\u001b[0m\u001b[0;34m.\u001b[0m\u001b[0mmax\u001b[0m\u001b[0;34m(\u001b[0m\u001b[0mlabels\u001b[0m\u001b[0;34m,\u001b[0m \u001b[0;36m1\u001b[0m\u001b[0;34m)\u001b[0m\u001b[0;34m\u001b[0m\u001b[0m\n\u001b[1;32m     26\u001b[0m \u001b[0;34m\u001b[0m\u001b[0m\n\u001b[0;32m---> 27\u001b[0;31m         \u001b[0mloss\u001b[0m \u001b[0;34m=\u001b[0m \u001b[0mcriterion\u001b[0m\u001b[0;34m(\u001b[0m\u001b[0moutputs\u001b[0m\u001b[0;34m,\u001b[0m \u001b[0mlabels\u001b[0m\u001b[0;34m,\u001b[0m \u001b[0mnet\u001b[0m\u001b[0;34m.\u001b[0m\u001b[0mwavelet\u001b[0m\u001b[0;34m.\u001b[0m\u001b[0mweight_hi\u001b[0m\u001b[0;34m,\u001b[0m \u001b[0mnet\u001b[0m\u001b[0;34m.\u001b[0m\u001b[0mwavelet\u001b[0m\u001b[0;34m.\u001b[0m\u001b[0mweight_lo\u001b[0m\u001b[0;34m,\u001b[0m \u001b[0mC\u001b[0m\u001b[0;34m,\u001b[0m \u001b[0ml2\u001b[0m\u001b[0;34m)\u001b[0m\u001b[0;34m\u001b[0m\u001b[0m\n\u001b[0m\u001b[1;32m     28\u001b[0m         \u001b[0mscheduler\u001b[0m\u001b[0;34m.\u001b[0m\u001b[0mstep\u001b[0m\u001b[0;34m(\u001b[0m\u001b[0mloss\u001b[0m\u001b[0;34m)\u001b[0m\u001b[0;34m\u001b[0m\u001b[0m\n\u001b[1;32m     29\u001b[0m         \u001b[0mloss\u001b[0m\u001b[0;34m.\u001b[0m\u001b[0mbackward\u001b[0m\u001b[0;34m(\u001b[0m\u001b[0;34m)\u001b[0m\u001b[0;34m\u001b[0m\u001b[0m\n",
      "\u001b[0;32m<ipython-input-96-fdafb47cdd21>\u001b[0m in \u001b[0;36mcriterion\u001b[0;34m(outputs, labels, w_hi, w_lo, C, l2)\u001b[0m\n\u001b[1;32m      2\u001b[0m \u001b[0;32mdef\u001b[0m \u001b[0mcriterion\u001b[0m\u001b[0;34m(\u001b[0m\u001b[0moutputs\u001b[0m\u001b[0;34m,\u001b[0m \u001b[0mlabels\u001b[0m\u001b[0;34m,\u001b[0m \u001b[0mw_hi\u001b[0m\u001b[0;34m,\u001b[0m \u001b[0mw_lo\u001b[0m\u001b[0;34m,\u001b[0m \u001b[0mC\u001b[0m\u001b[0;34m,\u001b[0m \u001b[0ml2\u001b[0m\u001b[0;34m)\u001b[0m\u001b[0;34m:\u001b[0m\u001b[0;34m\u001b[0m\u001b[0m\n\u001b[1;32m      3\u001b[0m     \u001b[0mcriterion\u001b[0m \u001b[0;34m=\u001b[0m \u001b[0mnn\u001b[0m\u001b[0;34m.\u001b[0m\u001b[0mCrossEntropyLoss\u001b[0m\u001b[0;34m(\u001b[0m\u001b[0;34m)\u001b[0m\u001b[0;34m\u001b[0m\u001b[0m\n\u001b[0;32m----> 4\u001b[0;31m     \u001b[0mloss\u001b[0m \u001b[0;34m=\u001b[0m \u001b[0;34m(\u001b[0m\u001b[0mw_hi\u001b[0m\u001b[0;34m.\u001b[0m\u001b[0mpow\u001b[0m\u001b[0;34m(\u001b[0m\u001b[0;36m2\u001b[0m\u001b[0;34m)\u001b[0m\u001b[0;34m.\u001b[0m\u001b[0msum\u001b[0m\u001b[0;34m(\u001b[0m\u001b[0;34m)\u001b[0m\u001b[0;34m-\u001b[0m\u001b[0;36m1\u001b[0m\u001b[0;34m)\u001b[0m\u001b[0;34m.\u001b[0m\u001b[0mpow\u001b[0m\u001b[0;34m(\u001b[0m\u001b[0;36m2\u001b[0m\u001b[0;34m)\u001b[0m\u001b[0;34m+\u001b[0m\u001b[0;34m(\u001b[0m\u001b[0mw_lo\u001b[0m\u001b[0;34m.\u001b[0m\u001b[0mpow\u001b[0m\u001b[0;34m(\u001b[0m\u001b[0;36m2\u001b[0m\u001b[0;34m)\u001b[0m\u001b[0;34m.\u001b[0m\u001b[0msum\u001b[0m\u001b[0;34m(\u001b[0m\u001b[0;34m)\u001b[0m\u001b[0;34m-\u001b[0m\u001b[0;36m1\u001b[0m\u001b[0;34m)\u001b[0m\u001b[0;34m.\u001b[0m\u001b[0mpow\u001b[0m\u001b[0;34m(\u001b[0m\u001b[0;36m2\u001b[0m\u001b[0;34m)\u001b[0m\u001b[0;34m\u001b[0m\u001b[0m\n\u001b[0m\u001b[1;32m      5\u001b[0m     \u001b[0;32mreturn\u001b[0m \u001b[0;34m(\u001b[0m\u001b[0mcriterion\u001b[0m\u001b[0;34m(\u001b[0m\u001b[0moutputs\u001b[0m\u001b[0;34m,\u001b[0m \u001b[0mlabels\u001b[0m\u001b[0;34m)\u001b[0m\u001b[0;34m+\u001b[0m\u001b[0mC\u001b[0m\u001b[0;34m*\u001b[0m\u001b[0mloss\u001b[0m\u001b[0;34m+\u001b[0m\u001b[0ml2\u001b[0m\u001b[0;34m*\u001b[0m\u001b[0mw_hi\u001b[0m\u001b[0;34m.\u001b[0m\u001b[0msum\u001b[0m\u001b[0;34m(\u001b[0m\u001b[0;34m)\u001b[0m\u001b[0;34m.\u001b[0m\u001b[0mpow\u001b[0m\u001b[0;34m(\u001b[0m\u001b[0;36m2\u001b[0m\u001b[0;34m)\u001b[0m\u001b[0;34m)\u001b[0m\u001b[0;34m\u001b[0m\u001b[0m\n",
      "\u001b[0;31mKeyboardInterrupt\u001b[0m: "
     ]
    }
   ],
   "source": [
    "i = 0\n",
    "C = 0.07\n",
    "l2 = 0.03\n",
    "for epoch in range(100):  # loop over the dataset multiple times\n",
    "    \n",
    "    train_gen = ESC50(folds=train_splits,\n",
    "                  randomize=True,\n",
    "                  strongAugment=True,\n",
    "                  random_crop=True,\n",
    "                  inputLength=2,\n",
    "                  mix=False,\n",
    "                  **shared_params).batch_gen(128)\n",
    "    \n",
    "    running_loss = 0.0\n",
    "    for inputs, labels in train_gen:\n",
    "        # get the inputs\n",
    "        inputs, labels = torch.Tensor(inputs).transpose(1,2).cuda(), torch.LongTensor(labels).cuda()\n",
    "\n",
    "        # zero the parameter gradients\n",
    "        optimizer.zero_grad()\n",
    "        \n",
    "        # forward + backward + optimize\n",
    "        outputs = net(inputs)\n",
    "\n",
    "        _, labels = torch.max(labels, 1)\n",
    "        \n",
    "        loss = criterion(outputs, labels, net.wavelet.weight_hi, net.wavelet.weight_lo, C, l2)\n",
    "        scheduler.step(loss)\n",
    "        loss.backward()\n",
    "        optimizer.step()\n",
    "        \n",
    "        \n",
    "        if i%100 == 0:\n",
    "            if net.wavelet.norm:\n",
    "                hi,lo = net.wavelet.hi_Norm(net.wavelet.weight_hi), net.wavelet.lo_Norm(net.wavelet.weight_lo)\n",
    "                print (epoch,i,net.wavelet.energy(hi), net.wavelet.energy(lo), \\\n",
    "                       net.wavelet.hi_Norm.B, loss.data)\n",
    "            else:\n",
    "                hi,lo = net.wavelet.weight_hi, net.wavelet.weight_lo\n",
    "                print (epoch,i,net.wavelet.energy(hi), net.wavelet.energy(lo), \\\n",
    "                       hi.sum(), loss.data)\n",
    "                \n",
    "            idx = torch.arange(hi.size(2)-1, -1, -1).long()\n",
    "            hi_f,lo_f = fft(hi[0,0,idx].cpu().data.numpy()), fft(lo[0,0,idx].cpu().data.numpy())\n",
    "            n = hi_f.shape[-1]\n",
    "            plt.plot(range(n//2),hi_f[:n//2])\n",
    "            plt.plot(range(n//2),lo_f[:n//2])\n",
    "            plt.show()\n",
    "        i+=1\n",
    "#         print (net.wavelet.energy(net.wavelet.weight_lo), net.wavelet.energy(net.wavelet.weight_hi), net.wavelet.lo_Norm.L.grad, loss.data)\n",
    "        \n",
    "        writer.add_scalar(\"loss\", loss.item())"
   ]
  },
  {
   "cell_type": "code",
   "execution_count": 17,
   "metadata": {
    "scrolled": true
   },
   "outputs": [
    {
     "data": {
      "text/plain": [
       "(Parameter containing:\n",
       " tensor([0.9811], device='cuda:0', requires_grad=True),\n",
       " tensor(3.4062, device='cuda:0', grad_fn=<SumBackward0>),\n",
       " tensor(1.3571, device='cuda:0', grad_fn=<SumBackward0>))"
      ]
     },
     "execution_count": 17,
     "metadata": {},
     "output_type": "execute_result"
    }
   ],
   "source": [
    "net.wavelet.hi_Norm.L, net.wavelet.hi_Norm(net.wavelet.weight_hi).pow(2).sum(), net.wavelet.weight_hi.pow(2).sum()"
   ]
  },
  {
   "cell_type": "code",
   "execution_count": 24,
   "metadata": {},
   "outputs": [],
   "source": [
    "torch.save(net.state_dict(),'test_save')"
   ]
  },
  {
   "cell_type": "code",
   "execution_count": 15,
   "metadata": {},
   "outputs": [
    {
     "data": {
      "text/plain": [
       "classifier(\n",
       "  (wavelet): Wavelet()\n",
       "  (conv1): Conv1d(5, 15, kernel_size=(3,), stride=(1,))\n",
       "  (pool): MaxPool1d(kernel_size=2, stride=2, padding=0, dilation=1, ceil_mode=False)\n",
       "  (conv2): Conv1d(15, 20, kernel_size=(3,), stride=(1,))\n",
       "  (conv3): Conv1d(20, 25, kernel_size=(3,), stride=(1,))\n",
       "  (lastpool): AdaptiveAvgPool1d(output_size=1)\n",
       "  (fc1): Linear(in_features=25, out_features=120, bias=True)\n",
       "  (relu): ReLU()\n",
       "  (fc2): Linear(in_features=120, out_features=10, bias=True)\n",
       ")"
      ]
     },
     "execution_count": 15,
     "metadata": {},
     "output_type": "execute_result"
    }
   ],
   "source": [
    "test_load = classifier(4, 8, disp=False, norm=False)\n",
    "test_load.load_state_dict(torch.load('test_save'))\n",
    "test_load.cuda()"
   ]
  },
  {
   "cell_type": "code",
   "execution_count": 25,
   "metadata": {
    "scrolled": true
   },
   "outputs": [
    {
     "ename": "KeyboardInterrupt",
     "evalue": "",
     "output_type": "error",
     "traceback": [
      "\u001b[0;31m---------------------------------------------------------------------------\u001b[0m",
      "\u001b[0;31mKeyboardInterrupt\u001b[0m                         Traceback (most recent call last)",
      "\u001b[0;32m<ipython-input-25-cce765eb1d16>\u001b[0m in \u001b[0;36m<module>\u001b[0;34m()\u001b[0m\n\u001b[1;32m     13\u001b[0m \u001b[0;34m\u001b[0m\u001b[0m\n\u001b[1;32m     14\u001b[0m         \u001b[0;31m# forward + backward + optimize\u001b[0m\u001b[0;34m\u001b[0m\u001b[0;34m\u001b[0m\u001b[0m\n\u001b[0;32m---> 15\u001b[0;31m         \u001b[0moutputs\u001b[0m \u001b[0;34m=\u001b[0m \u001b[0mnet\u001b[0m\u001b[0;34m(\u001b[0m\u001b[0minputs\u001b[0m\u001b[0;34m)\u001b[0m\u001b[0;34m\u001b[0m\u001b[0m\n\u001b[0m\u001b[1;32m     16\u001b[0m \u001b[0;34m\u001b[0m\u001b[0m\n\u001b[1;32m     17\u001b[0m         \u001b[0m_\u001b[0m\u001b[0;34m,\u001b[0m \u001b[0mpredicted\u001b[0m \u001b[0;34m=\u001b[0m \u001b[0mtorch\u001b[0m\u001b[0;34m.\u001b[0m\u001b[0mmax\u001b[0m\u001b[0;34m(\u001b[0m\u001b[0moutputs\u001b[0m\u001b[0;34m,\u001b[0m \u001b[0;36m1\u001b[0m\u001b[0;34m)\u001b[0m\u001b[0;34m\u001b[0m\u001b[0m\n",
      "\u001b[0;32m~/anaconda3/envs/torch/lib/python3.6/site-packages/torch/nn/modules/module.py\u001b[0m in \u001b[0;36m__call__\u001b[0;34m(self, *input, **kwargs)\u001b[0m\n\u001b[1;32m    475\u001b[0m             \u001b[0mresult\u001b[0m \u001b[0;34m=\u001b[0m \u001b[0mself\u001b[0m\u001b[0;34m.\u001b[0m\u001b[0m_slow_forward\u001b[0m\u001b[0;34m(\u001b[0m\u001b[0;34m*\u001b[0m\u001b[0minput\u001b[0m\u001b[0;34m,\u001b[0m \u001b[0;34m**\u001b[0m\u001b[0mkwargs\u001b[0m\u001b[0;34m)\u001b[0m\u001b[0;34m\u001b[0m\u001b[0m\n\u001b[1;32m    476\u001b[0m         \u001b[0;32melse\u001b[0m\u001b[0;34m:\u001b[0m\u001b[0;34m\u001b[0m\u001b[0m\n\u001b[0;32m--> 477\u001b[0;31m             \u001b[0mresult\u001b[0m \u001b[0;34m=\u001b[0m \u001b[0mself\u001b[0m\u001b[0;34m.\u001b[0m\u001b[0mforward\u001b[0m\u001b[0;34m(\u001b[0m\u001b[0;34m*\u001b[0m\u001b[0minput\u001b[0m\u001b[0;34m,\u001b[0m \u001b[0;34m**\u001b[0m\u001b[0mkwargs\u001b[0m\u001b[0;34m)\u001b[0m\u001b[0;34m\u001b[0m\u001b[0m\n\u001b[0m\u001b[1;32m    478\u001b[0m         \u001b[0;32mfor\u001b[0m \u001b[0mhook\u001b[0m \u001b[0;32min\u001b[0m \u001b[0mself\u001b[0m\u001b[0;34m.\u001b[0m\u001b[0m_forward_hooks\u001b[0m\u001b[0;34m.\u001b[0m\u001b[0mvalues\u001b[0m\u001b[0;34m(\u001b[0m\u001b[0;34m)\u001b[0m\u001b[0;34m:\u001b[0m\u001b[0;34m\u001b[0m\u001b[0m\n\u001b[1;32m    479\u001b[0m             \u001b[0mhook_result\u001b[0m \u001b[0;34m=\u001b[0m \u001b[0mhook\u001b[0m\u001b[0;34m(\u001b[0m\u001b[0mself\u001b[0m\u001b[0;34m,\u001b[0m \u001b[0minput\u001b[0m\u001b[0;34m,\u001b[0m \u001b[0mresult\u001b[0m\u001b[0;34m)\u001b[0m\u001b[0;34m\u001b[0m\u001b[0m\n",
      "\u001b[0;32m<ipython-input-9-087421b5569a>\u001b[0m in \u001b[0;36mforward\u001b[0;34m(self, x)\u001b[0m\n\u001b[1;32m     19\u001b[0m     \u001b[0;32mdef\u001b[0m \u001b[0mforward\u001b[0m\u001b[0;34m(\u001b[0m\u001b[0mself\u001b[0m\u001b[0;34m,\u001b[0m\u001b[0mx\u001b[0m\u001b[0;34m)\u001b[0m\u001b[0;34m:\u001b[0m\u001b[0;34m\u001b[0m\u001b[0m\n\u001b[1;32m     20\u001b[0m \u001b[0;34m\u001b[0m\u001b[0m\n\u001b[0;32m---> 21\u001b[0;31m         \u001b[0mencoded_x\u001b[0m \u001b[0;34m=\u001b[0m \u001b[0mself\u001b[0m\u001b[0;34m.\u001b[0m\u001b[0mwavelet\u001b[0m\u001b[0;34m(\u001b[0m\u001b[0mx\u001b[0m\u001b[0;34m)\u001b[0m\u001b[0;34m\u001b[0m\u001b[0m\n\u001b[0m\u001b[1;32m     22\u001b[0m         \u001b[0moutput\u001b[0m \u001b[0;34m=\u001b[0m \u001b[0mself\u001b[0m\u001b[0;34m.\u001b[0m\u001b[0mpool\u001b[0m\u001b[0;34m(\u001b[0m\u001b[0mself\u001b[0m\u001b[0;34m.\u001b[0m\u001b[0mconv1\u001b[0m\u001b[0;34m(\u001b[0m\u001b[0mencoded_x\u001b[0m\u001b[0;34m)\u001b[0m\u001b[0;34m)\u001b[0m\u001b[0;34m\u001b[0m\u001b[0m\n\u001b[1;32m     23\u001b[0m         \u001b[0moutput\u001b[0m \u001b[0;34m=\u001b[0m \u001b[0mself\u001b[0m\u001b[0;34m.\u001b[0m\u001b[0mpool\u001b[0m\u001b[0;34m(\u001b[0m\u001b[0mself\u001b[0m\u001b[0;34m.\u001b[0m\u001b[0mconv2\u001b[0m\u001b[0;34m(\u001b[0m\u001b[0moutput\u001b[0m\u001b[0;34m)\u001b[0m\u001b[0;34m)\u001b[0m\u001b[0;34m\u001b[0m\u001b[0m\n",
      "\u001b[0;32m~/anaconda3/envs/torch/lib/python3.6/site-packages/torch/nn/modules/module.py\u001b[0m in \u001b[0;36m__call__\u001b[0;34m(self, *input, **kwargs)\u001b[0m\n\u001b[1;32m    475\u001b[0m             \u001b[0mresult\u001b[0m \u001b[0;34m=\u001b[0m \u001b[0mself\u001b[0m\u001b[0;34m.\u001b[0m\u001b[0m_slow_forward\u001b[0m\u001b[0;34m(\u001b[0m\u001b[0;34m*\u001b[0m\u001b[0minput\u001b[0m\u001b[0;34m,\u001b[0m \u001b[0;34m**\u001b[0m\u001b[0mkwargs\u001b[0m\u001b[0;34m)\u001b[0m\u001b[0;34m\u001b[0m\u001b[0m\n\u001b[1;32m    476\u001b[0m         \u001b[0;32melse\u001b[0m\u001b[0;34m:\u001b[0m\u001b[0;34m\u001b[0m\u001b[0m\n\u001b[0;32m--> 477\u001b[0;31m             \u001b[0mresult\u001b[0m \u001b[0;34m=\u001b[0m \u001b[0mself\u001b[0m\u001b[0;34m.\u001b[0m\u001b[0mforward\u001b[0m\u001b[0;34m(\u001b[0m\u001b[0;34m*\u001b[0m\u001b[0minput\u001b[0m\u001b[0;34m,\u001b[0m \u001b[0;34m**\u001b[0m\u001b[0mkwargs\u001b[0m\u001b[0;34m)\u001b[0m\u001b[0;34m\u001b[0m\u001b[0m\n\u001b[0m\u001b[1;32m    478\u001b[0m         \u001b[0;32mfor\u001b[0m \u001b[0mhook\u001b[0m \u001b[0;32min\u001b[0m \u001b[0mself\u001b[0m\u001b[0;34m.\u001b[0m\u001b[0m_forward_hooks\u001b[0m\u001b[0;34m.\u001b[0m\u001b[0mvalues\u001b[0m\u001b[0;34m(\u001b[0m\u001b[0;34m)\u001b[0m\u001b[0;34m:\u001b[0m\u001b[0;34m\u001b[0m\u001b[0m\n\u001b[1;32m    479\u001b[0m             \u001b[0mhook_result\u001b[0m \u001b[0;34m=\u001b[0m \u001b[0mhook\u001b[0m\u001b[0;34m(\u001b[0m\u001b[0mself\u001b[0m\u001b[0;34m,\u001b[0m \u001b[0minput\u001b[0m\u001b[0;34m,\u001b[0m \u001b[0mresult\u001b[0m\u001b[0;34m)\u001b[0m\u001b[0;34m\u001b[0m\u001b[0m\n",
      "\u001b[0;32m<ipython-input-5-41f76de4b685>\u001b[0m in \u001b[0;36mforward\u001b[0;34m(self, data)\u001b[0m\n\u001b[1;32m    123\u001b[0m         \u001b[0;32melse\u001b[0m\u001b[0;34m:\u001b[0m\u001b[0;34m\u001b[0m\u001b[0m\n\u001b[1;32m    124\u001b[0m             \u001b[0mself\u001b[0m\u001b[0;34m.\u001b[0m\u001b[0mreset_weights_enc\u001b[0m\u001b[0;34m(\u001b[0m\u001b[0mself\u001b[0m\u001b[0;34m.\u001b[0m\u001b[0mweight_hi\u001b[0m\u001b[0;34m,\u001b[0m\u001b[0mself\u001b[0m\u001b[0;34m.\u001b[0m\u001b[0mweight_lo\u001b[0m\u001b[0;34m)\u001b[0m\u001b[0;34m\u001b[0m\u001b[0m\n\u001b[0;32m--> 125\u001b[0;31m         \u001b[0mencoding\u001b[0m \u001b[0;34m=\u001b[0m \u001b[0mtorch\u001b[0m\u001b[0;34m.\u001b[0m\u001b[0mTensor\u001b[0m\u001b[0;34m(\u001b[0m\u001b[0mdata\u001b[0m\u001b[0;34m.\u001b[0m\u001b[0msize\u001b[0m\u001b[0;34m(\u001b[0m\u001b[0;36m0\u001b[0m\u001b[0;34m)\u001b[0m\u001b[0;34m,\u001b[0m\u001b[0mself\u001b[0m\u001b[0;34m.\u001b[0m\u001b[0mnum_layers\u001b[0m\u001b[0;34m+\u001b[0m\u001b[0;36m1\u001b[0m\u001b[0;34m,\u001b[0m\u001b[0mdata\u001b[0m\u001b[0;34m.\u001b[0m\u001b[0msize\u001b[0m\u001b[0;34m(\u001b[0m\u001b[0;36m2\u001b[0m\u001b[0;34m)\u001b[0m\u001b[0;34m)\u001b[0m\u001b[0;34m.\u001b[0m\u001b[0mcuda\u001b[0m\u001b[0;34m(\u001b[0m\u001b[0;34m)\u001b[0m\u001b[0;34m\u001b[0m\u001b[0m\n\u001b[0m\u001b[1;32m    126\u001b[0m         \u001b[0;32mfor\u001b[0m \u001b[0mi\u001b[0m\u001b[0;34m,\u001b[0m\u001b[0mweight\u001b[0m \u001b[0;32min\u001b[0m \u001b[0menumerate\u001b[0m\u001b[0;34m(\u001b[0m\u001b[0mself\u001b[0m\u001b[0;34m.\u001b[0m\u001b[0mweights\u001b[0m\u001b[0;34m)\u001b[0m\u001b[0;34m:\u001b[0m\u001b[0;34m\u001b[0m\u001b[0m\n\u001b[1;32m    127\u001b[0m             \u001b[0mfilt_size\u001b[0m \u001b[0;34m=\u001b[0m \u001b[0mweight\u001b[0m\u001b[0;34m.\u001b[0m\u001b[0msize\u001b[0m\u001b[0;34m(\u001b[0m\u001b[0;36m2\u001b[0m\u001b[0;34m)\u001b[0m\u001b[0;34m-\u001b[0m\u001b[0;36m1\u001b[0m\u001b[0;34m\u001b[0m\u001b[0m\n",
      "\u001b[0;31mKeyboardInterrupt\u001b[0m: "
     ]
    }
   ],
   "source": [
    "total = 0\n",
    "correct = 0\n",
    "train_gen = ESC50(folds=train_splits,\n",
    "                  randomize=True,\n",
    "                  strongAugment=True,\n",
    "                  random_crop=True,\n",
    "                  inputLength=2,\n",
    "                  mix=False,\n",
    "                  **shared_params).batch_gen(256)\n",
    "for inputs, labels in test_gen:\n",
    "        # get the inputs\n",
    "        inputs, labels = torch.Tensor(inputs).transpose(1,2).cuda(), torch.LongTensor(labels).cuda()\n",
    "\n",
    "        # forward + backward + optimize\n",
    "        outputs = net(inputs)\n",
    "\n",
    "        _, predicted = torch.max(outputs, 1)\n",
    "        _, labels = torch.max(labels, 1)\n",
    "        \n",
    "#         loss = criterion(outputs, labels, net.wavelet.weight_hi, net.wavelet.weight_lo, C, l2)\n",
    "        \n",
    "        total += labels.size(0)\n",
    "        correct += (predicted == labels).sum().item()\n",
    "\n",
    "print('Accuracy of the network: %d %%' % (100 * correct / total))"
   ]
  },
  {
   "cell_type": "code",
   "execution_count": 26,
   "metadata": {},
   "outputs": [
    {
     "name": "stdout",
     "output_type": "stream",
     "text": [
      "Accuracy of the network on the 10000 test images: 80 %\n"
     ]
    }
   ],
   "source": [
    "print('Accuracy of the network on the 10000 test images: %d %%' % (100 * correct / total))"
   ]
  },
  {
   "cell_type": "code",
   "execution_count": 45,
   "metadata": {},
   "outputs": [
    {
     "data": {
      "text/plain": [
       "[<matplotlib.lines.Line2D at 0x7f4d46ffae10>]"
      ]
     },
     "execution_count": 45,
     "metadata": {},
     "output_type": "execute_result"
    },
    {
     "data": {
      "image/png": "[encoded data removed]",
      "text/plain": [
       "<Figure size 432x288 with 1 Axes>"
      ]
     },
     "metadata": {
      "needs_background": "light"
     },
     "output_type": "display_data"
    }
   ],
   "source": [
    "data = []\n",
    "for i in range(-100,100):\n",
    "    data.append(F.sigmoid(torch.Tensor([i]))-0.5)\n",
    "plt.plot(data)"
   ]
  },
  {
   "cell_type": "code",
   "execution_count": 223,
   "metadata": {},
   "outputs": [
    {
     "name": "stderr",
     "output_type": "stream",
     "text": [
      "/home/ilya/anaconda3/envs/torch/lib/python3.6/site-packages/numpy/core/numeric.py:501: ComplexWarning: Casting complex values to real discards the imaginary part\n",
      "  return array(a, dtype, copy=False, order=order)\n"
     ]
    },
    {
     "data": {
      "image/png": "[encoded data removed]",
      "text/plain": [
       "<Figure size 432x288 with 1 Axes>"
      ]
     },
     "metadata": {
      "needs_background": "light"
     },
     "output_type": "display_data"
    }
   ],
   "source": [
    "hi,lo = net.wavelet.weight_hi, net.wavelet.weight_lo\n",
    "idx = torch.arange(hi.size(2)-1, -1, -1).long()\n",
    "hi_f,lo_f = fft(hi[0,0,idx].cpu().data.numpy()), fft(lo[0,0,idx].cpu().data.numpy())\n",
    "n = hi_f.shape[-1]\n",
    "plt.plot(range(n//2),hi_f[:n//2])\n",
    "plt.plot(range(n//2),lo_f[:n//2]);"
   ]
  },
  {
   "cell_type": "code",
   "execution_count": null,
   "metadata": {},
   "outputs": [],
   "source": []
  },
  {
   "cell_type": "code",
   "execution_count": null,
   "metadata": {},
   "outputs": [],
   "source": []
  },
  {
   "cell_type": "code",
   "execution_count": null,
   "metadata": {},
   "outputs": [],
   "source": []
  },
  {
   "cell_type": "code",
   "execution_count": null,
   "metadata": {},
   "outputs": [],
   "source": []
  },
  {
   "cell_type": "code",
   "execution_count": 80,
   "metadata": {},
   "outputs": [
    {
     "name": "stdout",
     "output_type": "stream",
     "text": [
      "(16, 32000, 1)\n",
      "torch.Size([16, 1, 32000])\n"
     ]
    }
   ],
   "source": [
    "train_gen = ESC50(folds=train_splits,\n",
    "                  randomize=True,\n",
    "                  strongAugment=True,\n",
    "                  random_crop=True,\n",
    "                  inputLength=2,\n",
    "                  mix=False,\n",
    "                  **shared_params).batch_gen(16)\n",
    "inputs, labels = next(train_gen)\n",
    "print (inputs.shape)\n",
    "\n",
    "inputs, labels = torch.Tensor(inputs).transpose(1,2).cuda(), torch.LongTensor(labels).cuda()\n",
    "print (inputs.shape)\n",
    "stfts = torch.stft(inputs.squeeze(), n_fft=2047, hop_length=2047//2, win_length=2047, \\\n",
    "                   window=torch.hamming_window(2047).cuda(), center=False)\n",
    "ads_stfts = stfts.pow(2).sum(-1).sqrt()\n",
    "# model(inputs).shape"
   ]
  },
  {
   "cell_type": "code",
   "execution_count": 79,
   "metadata": {},
   "outputs": [
    {
     "data": {
      "text/plain": [
       "(torch.Size([16, 1024, 30, 2]), torch.Size([16, 1024, 30]))"
      ]
     },
     "execution_count": 79,
     "metadata": {},
     "output_type": "execute_result"
    }
   ],
   "source": [
    "stfts.shape, ads_stfts.shape"
   ]
  },
  {
   "cell_type": "code",
   "execution_count": null,
   "metadata": {},
   "outputs": [],
   "source": []
  },
  {
   "cell_type": "code",
   "execution_count": 106,
   "metadata": {},
   "outputs": [],
   "source": [
    "class classifier_stft(nn.Module):\n",
    "    def __init__(self, n_fft, stride=1,padding=1, dilation=1, groups=1):\n",
    "        super(classifier_stft, self).__init__()\n",
    "        self.n_fft = n_fft\n",
    "        self.window = nn.Parameter(torch.hamming_window(self.n_fft), requires_grad=False)\n",
    "        \n",
    "        self.conv1 = nn.Conv1d(30, 15, 3)\n",
    "        self.pool = nn.MaxPool1d(2)\n",
    "        self.conv2 = nn.Conv1d(15,20,3)\n",
    "        self.conv3 = nn.Conv1d(20,25,3)\n",
    "        self.lastpool = nn.AdaptiveAvgPool1d(1)\n",
    "        self.fc1 = nn.Linear(25,120)\n",
    "        self.relu = nn.ReLU()\n",
    "        self.fc2 = nn.Linear(120,10)\n",
    "\n",
    "    def stft(self,x):        \n",
    "        stfts = torch.stft(x.squeeze(), n_fft=self.n_fft, hop_length=self.n_fft//2, win_length=self.n_fft, \\\n",
    "                   window=self.window, center=False)\n",
    "        return stfts.pow(2).sum(-1).sqrt().transpose(1,2)\n",
    "        \n",
    "    def forward(self,x):\n",
    "        \n",
    "        encoded_x = self.stft(x)\n",
    "        output = self.pool(self.conv1(encoded_x))\n",
    "        output = self.pool(self.conv2(output))\n",
    "        output = self.conv3(output)\n",
    "        output = self.lastpool(output)\n",
    "        output = self.relu(self.fc1(output.squeeze()))\n",
    "        output = self.fc2(output)\n",
    "        \n",
    "        return output"
   ]
  },
  {
   "cell_type": "code",
   "execution_count": 129,
   "metadata": {},
   "outputs": [
    {
     "data": {
      "text/plain": [
       "classifier_stft(\n",
       "  (conv1): Conv1d(30, 15, kernel_size=(3,), stride=(1,))\n",
       "  (pool): MaxPool1d(kernel_size=2, stride=2, padding=0, dilation=1, ceil_mode=False)\n",
       "  (conv2): Conv1d(15, 20, kernel_size=(3,), stride=(1,))\n",
       "  (conv3): Conv1d(20, 25, kernel_size=(3,), stride=(1,))\n",
       "  (lastpool): AdaptiveAvgPool1d(output_size=1)\n",
       "  (fc1): Linear(in_features=25, out_features=120, bias=True)\n",
       "  (relu): ReLU()\n",
       "  (fc2): Linear(in_features=120, out_features=10, bias=True)\n",
       ")"
      ]
     },
     "execution_count": 129,
     "metadata": {},
     "output_type": "execute_result"
    }
   ],
   "source": [
    "net_st = classifier_stft(2047)\n",
    "net_st.cuda()"
   ]
  },
  {
   "cell_type": "code",
   "execution_count": 130,
   "metadata": {},
   "outputs": [],
   "source": [
    "writer = SummaryWriter('stft0')\n",
    "criterion = nn.CrossEntropyLoss()"
   ]
  },
  {
   "cell_type": "code",
   "execution_count": 133,
   "metadata": {},
   "outputs": [],
   "source": [
    "optimizer = optim.SGD(net_st.parameters(), lr=0.01, momentum=0.9)\n",
    "scheduler = optim.lr_scheduler.ReduceLROnPlateau(optimizer, factor=0.7,patience=150, verbose=True, threshold=0.01)"
   ]
  },
  {
   "cell_type": "code",
   "execution_count": null,
   "metadata": {
    "scrolled": true
   },
   "outputs": [
    {
     "name": "stdout",
     "output_type": "stream",
     "text": [
      "0 0 tensor(2.3628, device='cuda:0') tensor(0.1797, device='cuda:0')\n",
      "0 50 tensor(1.3386, device='cuda:0') tensor(0.5000, device='cuda:0')\n",
      "0 100 tensor(1.2583, device='cuda:0') tensor(0.5625, device='cuda:0')\n"
     ]
    }
   ],
   "source": [
    "i = 0\n",
    "C = 0.07\n",
    "l2 = 0.03\n",
    "for epoch in range(100):  # loop over the dataset multiple times\n",
    "    \n",
    "    train_gen = ESC50(folds=train_splits,\n",
    "                  randomize=True,\n",
    "                  strongAugment=True,\n",
    "                  random_crop=True,\n",
    "                  inputLength=2,\n",
    "                  mix=False,\n",
    "                  **shared_params).batch_gen(128)\n",
    "    \n",
    "    running_loss = 0.0\n",
    "    for inputs, labels in train_gen:\n",
    "        # get the inputs\n",
    "        inputs, labels = torch.Tensor(inputs).cuda(), torch.LongTensor(labels).cuda()\n",
    "\n",
    "        # zero the parameter gradients\n",
    "        optimizer.zero_grad()\n",
    "        \n",
    "        # forward + backward + optimize\n",
    "        outputs = net_st(inputs)\n",
    "\n",
    "        _, labels = torch.max(labels, 1)\n",
    "        \n",
    "        loss = criterion(outputs, labels)\n",
    "        scheduler.step(loss)\n",
    "        \n",
    "        loss.backward()\n",
    "        optimizer.step()\n",
    "        \n",
    "        \n",
    "        if i%50 == 0:\n",
    "            \n",
    "            _, predicted = torch.max(outputs, 1)\n",
    "            \n",
    "            print (epoch,i,loss.data,(predicted==labels).float().mean()) \n",
    "                \n",
    "        i+=1\n",
    "#         print (net.wavelet.energy(net.wavelet.weight_lo), net.wavelet.energy(net.wavelet.weight_hi), net.wavelet.lo_Norm.L.grad, loss.data)\n",
    "        \n",
    "        writer.add_scalar(\"loss\", loss.item())"
   ]
  },
  {
   "cell_type": "code",
   "execution_count": null,
   "metadata": {},
   "outputs": [],
   "source": [
    "# net_st.conv1.weight.grad"
   ]
  }
 ],
 "metadata": {
  "kernelspec": {
   "display_name": "Python 3",
   "language": "python",
   "name": "python3"
  },
  "language_info": {
   "codemirror_mode": {
    "name": "ipython",
    "version": 3
   },
   "file_extension": ".py",
   "mimetype": "text/x-python",
   "name": "python",
   "nbconvert_exporter": "python",
   "pygments_lexer": "ipython3",
   "version": "3.6.6"
  }
 },
 "nbformat": 4,
 "nbformat_minor": 2
}
